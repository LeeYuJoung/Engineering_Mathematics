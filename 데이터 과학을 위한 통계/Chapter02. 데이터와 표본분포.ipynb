{
  "nbformat": 4,
  "nbformat_minor": 0,
  "metadata": {
    "colab": {
      "provenance": []
    },
    "kernelspec": {
      "name": "python3",
      "display_name": "Python 3"
    },
    "language_info": {
      "name": "python"
    }
  },
  "cells": [
    {
      "cell_type": "markdown",
      "source": [
        "## **Chapter02. 데이터와 표본분포 (68~109p)**"
      ],
      "metadata": {
        "id": "A3TGTjiDK_A3"
      }
    },
    {
      "cell_type": "code",
      "execution_count": 2,
      "metadata": {
        "id": "fP_fUYcqKwrS"
      },
      "outputs": [],
      "source": [
        "%matplotlib inline\n",
        "\n",
        "from pathlib import Path\n",
        "import pandas as pd\n",
        "import numpy as np\n",
        "from scipy import stats\n",
        "from sklearn.utils import resample\n",
        "\n",
        "import seaborn as sns\n",
        "import matplotlib.pylab as plt"
      ]
    },
    {
      "cell_type": "code",
      "source": [
        "LOANS_INCOME_CSV = 'loans_income.csv'\n",
        "SP500_DATA_CSV = 'sp500_data.csv.gz'"
      ],
      "metadata": {
        "id": "Ywq9HgBAqiz8"
      },
      "execution_count": 4,
      "outputs": []
    },
    {
      "cell_type": "markdown",
      "source": [
        "### **Chapter02.01 임의표본추출과 표본편향(68p)**"
      ],
      "metadata": {
        "id": "ersaHP5k52tO"
      }
    },
    {
      "cell_type": "markdown",
      "source": [
        "* **모집단 (Population)**\n",
        "  * 어떤 데이터 집합을 구성하는 ***전체 대상 혹은 전체 집합***\n",
        "* **표본 (Sample)**\n",
        "  * 더 큰 데이터 집합 (모집단)으로부터 얻은 ***부분집합***\n",
        "* $N(n)$\n",
        "  * 모집단 (표본)의 크기"
      ],
      "metadata": {
        "id": "rDqMoOCKpHOs"
      }
    },
    {
      "cell_type": "markdown",
      "source": [
        "* **임의표본추출 (랜덤표본추출, Random Sampling)**\n",
        "  * 무작위로 표본을 추출하는 것\n",
        "  * 각 추첨에서 모든 원소는 동일한 확률로 뽑힘\n",
        "* **단순임의표본 (단순랜덤표본, Simple Random Sample)**\n",
        "  * 임의표본추출 결과 얻은 샘플"
      ],
      "metadata": {
        "id": "6Jn60euguJ9k"
      }
    },
    {
      "cell_type": "markdown",
      "source": [
        "* **층화표본추출 (Stratified Sampling)**\n",
        "  * 모집단을 여러 층으로 나눈 뒤, 각 층에서 무작위로 표본을 추출하는 것\n",
        "* **계층 (Stratum)**\n",
        "  * 공통된 특징을 가진 모집단의 동종 하위 그룹"
      ],
      "metadata": {
        "id": "KjN0ztIBu7FA"
      }
    },
    {
      "cell_type": "markdown",
      "source": [
        "* **복원추출 (Sampling With Replacement)**\n",
        "  * 추첨 후 다음번에도 중복 추출이 가능하도록 해당 샘플을 다시 모집단에 포함\n",
        "* **비복원추출 (Sampling Without Replacement)**\n",
        "  * 한 번 뽑힌 원소는 추후 추처에 사용하지 않음"
      ],
      "metadata": {
        "id": "K0csSdGdvkB4"
      }
    },
    {
      "cell_type": "markdown",
      "source": [
        "* **편향 (Bias)**\n",
        "  * 계통상의 오류\n",
        "  * 측정 과정 혹은 표본추출 과정에서 발생하는 계통적인 오차를 의미\n",
        "* **표본편향 (Sample Bias)**\n",
        "  * 모집단을 잘못 대표하는 표본\n",
        "* **비임의 (Nonrandom)**\n",
        "  * 아무리 랜덤표본이라고 해도, ***어떤 표본도 모집단을 정확하게 대표할 수 없다***는 것을 의미"
      ],
      "metadata": {
        "id": "HjXPSzuXvOPw"
      }
    },
    {
      "cell_type": "markdown",
      "source": [
        "### **Chapter02.02 선택편향 (76p)**"
      ],
      "metadata": {
        "id": "UpBDI7PM6927"
      }
    },
    {
      "cell_type": "markdown",
      "source": [
        "* **선택편향 (Selection Bias)**\n",
        "  * 데이터를 의식적이든 무의식적이든 선택적으로 고르는 관행을 의미\n",
        "  * 관측 데이터를 선택하는 방식 때문에 생기는 편향"
      ],
      "metadata": {
        "id": "wVh5Nm_YFPeP"
      }
    },
    {
      "cell_type": "markdown",
      "source": [
        "* **데이터 스누핑 (Data Snooping)**\n",
        "  * 뭔가 흥미로운 것을 찾아 데이터를 광범위하게 살피는 것"
      ],
      "metadata": {
        "id": "B1NHBhv_FiVW"
      }
    },
    {
      "cell_type": "markdown",
      "source": [
        "* **방대한 검색 효과 (Vast Search Effect)**\n",
        "  * 중복 데이터 모델링이나 너무 많은 예측변수를 고려하는 모델링에서 비롯되는 편향 혹은 비재현성"
      ],
      "metadata": {
        "id": "DFxK8DZTFsYB"
      }
    },
    {
      "cell_type": "markdown",
      "source": [
        "* **평균으로의 회귀 (Regression to the Mean)**\n",
        "  * 주어진 어떤 변수를 연속적으로 측정했을 때 나타나는 현상\n",
        "  * 예외적인 경우가 관찰되면 그다음에는 중간 정도의 경우가 관찰되는 경향"
      ],
      "metadata": {
        "id": "qXzlG-1bJBPL"
      }
    },
    {
      "cell_type": "markdown",
      "source": [
        "### **Chapter02.03 통계학에서의 표본분포 (79p)**"
      ],
      "metadata": {
        "id": "JJtnAJg37D9h"
      }
    },
    {
      "cell_type": "markdown",
      "source": [
        "* **표본분포**\n",
        "  * 하나의 동일한 모집단에서 얻은 여러 샘플에 대한 표본통계량의 분포\n",
        "  * 고전 통계의 대부분은 ***작은 표본은 가지고 매우 큰 모집단을 추론***\n",
        "  * **용어 정리**\n",
        "    * **표본통계량 (Sample Statistic)** ➜ 더 큰 모집단에서 추출된 표본 데이터들로부터 얻은 측정 지표\n",
        "    * **데이터 분포 (Data Distribution)** ➜ 어떤 데이터 집합에서의 각 개별 값의 도수분포\n",
        "    * **표본분포 (Sampling Distribution)** ➜ 여러 표본들 혹은 재표본들로부터 얻은 표본통계량의 도수분포\n",
        "    * **중심극한정리 (Center limit Theorem)** ➜ 표본크기가 커질수록 표본분포가 정규분포를 따르는 경향\n",
        "    * **표준오차 (Standard Error)** ➜ 여러 표본들로부터 얻은 표본통계량의 변량 ***(개별 데이터 값들의 변량을 뜻하는 표준편차와 혼동 주의)***"
      ],
      "metadata": {
        "id": "7a3WB80QROQf"
      }
    },
    {
      "cell_type": "markdown",
      "source": [
        "* **중심극한정리**\n",
        "  * 모집단이 정규분포가 아니더라도, 표본크기가 충분하고 데이터가 정규성을 크게 이탈하지 않는 경우, 여러 표본에서 추출한 평균은 종 모양의 정규곡선을 따름"
      ],
      "metadata": {
        "id": "D8XrnWCMjT2o"
      }
    },
    {
      "cell_type": "markdown",
      "source": [
        "* **표준오차**\n",
        "  * 표본 측정 지표의 변동성을 측정\n",
        "  * 통계에 대한 표본분포의 변동성을 한마디로 말해주는 단일 측정 지표\n",
        "  * 표본 값들의 표준편차 $s$와 표본크기 $n$을 기반으로 한 통계량을 이용하여 추정 ➜ $SE = \\frac{s}{\\sqrt n}$\n",
        "  * 표본크기가 커지면 표준오차는 줄어듬"
      ],
      "metadata": {
        "id": "Zt0Ig00RkQ8W"
      }
    },
    {
      "cell_type": "code",
      "source": [
        "# Squeeze() ➜ 차원 축소, 스칼라 변환\n",
        "loans_income = pd.read_csv(LOANS_INCOME_CSV).squeeze('columns')\n",
        "\n",
        "sample_data = pd.DataFrame({\n",
        "    'income' : loans_income.sample(1000),\n",
        "    'type' : 'Data',\n",
        "})\n",
        "\n",
        "sample_mean_05 = pd.DataFrame({\n",
        "    'income' : [loans_income.sample(5).mean() for _ in range(1000)],   # for _ in ➜ 인덱스 무시\n",
        "    'type' : 'Mean of 5',\n",
        "})\n",
        "\n",
        "sample_mean_20 = pd.DataFrame({\n",
        "    'income' : [loans_income.sample(20).mean() for _ in range(1000)],\n",
        "    'type' : 'Mean of 20',\n",
        "})\n",
        "\n",
        "results = pd.concat([sample_data, sample_mean_05, sample_mean_20])\n",
        "results.head()"
      ],
      "metadata": {
        "id": "33ilc0x-7JVe",
        "colab": {
          "base_uri": "https://localhost:8080/",
          "height": 206
        },
        "outputId": "e1e18219-5d6d-4be1-e575-044f7ad764ff"
      },
      "execution_count": 11,
      "outputs": [
        {
          "output_type": "execute_result",
          "data": {
            "text/plain": [
              "         income  type\n",
              "27962   68500.0  Data\n",
              "30999   65000.0  Data\n",
              "24173   43000.0  Data\n",
              "37569  150000.0  Data\n",
              "16363  101000.0  Data"
            ],
            "text/html": [
              "\n",
              "  <div id=\"df-eeb41d8b-35bf-4c57-84f7-d46c2a48d8ac\" class=\"colab-df-container\">\n",
              "    <div>\n",
              "<style scoped>\n",
              "    .dataframe tbody tr th:only-of-type {\n",
              "        vertical-align: middle;\n",
              "    }\n",
              "\n",
              "    .dataframe tbody tr th {\n",
              "        vertical-align: top;\n",
              "    }\n",
              "\n",
              "    .dataframe thead th {\n",
              "        text-align: right;\n",
              "    }\n",
              "</style>\n",
              "<table border=\"1\" class=\"dataframe\">\n",
              "  <thead>\n",
              "    <tr style=\"text-align: right;\">\n",
              "      <th></th>\n",
              "      <th>income</th>\n",
              "      <th>type</th>\n",
              "    </tr>\n",
              "  </thead>\n",
              "  <tbody>\n",
              "    <tr>\n",
              "      <th>27962</th>\n",
              "      <td>68500.0</td>\n",
              "      <td>Data</td>\n",
              "    </tr>\n",
              "    <tr>\n",
              "      <th>30999</th>\n",
              "      <td>65000.0</td>\n",
              "      <td>Data</td>\n",
              "    </tr>\n",
              "    <tr>\n",
              "      <th>24173</th>\n",
              "      <td>43000.0</td>\n",
              "      <td>Data</td>\n",
              "    </tr>\n",
              "    <tr>\n",
              "      <th>37569</th>\n",
              "      <td>150000.0</td>\n",
              "      <td>Data</td>\n",
              "    </tr>\n",
              "    <tr>\n",
              "      <th>16363</th>\n",
              "      <td>101000.0</td>\n",
              "      <td>Data</td>\n",
              "    </tr>\n",
              "  </tbody>\n",
              "</table>\n",
              "</div>\n",
              "    <div class=\"colab-df-buttons\">\n",
              "\n",
              "  <div class=\"colab-df-container\">\n",
              "    <button class=\"colab-df-convert\" onclick=\"convertToInteractive('df-eeb41d8b-35bf-4c57-84f7-d46c2a48d8ac')\"\n",
              "            title=\"Convert this dataframe to an interactive table.\"\n",
              "            style=\"display:none;\">\n",
              "\n",
              "  <svg xmlns=\"http://www.w3.org/2000/svg\" height=\"24px\" viewBox=\"0 -960 960 960\">\n",
              "    <path d=\"M120-120v-720h720v720H120Zm60-500h600v-160H180v160Zm220 220h160v-160H400v160Zm0 220h160v-160H400v160ZM180-400h160v-160H180v160Zm440 0h160v-160H620v160ZM180-180h160v-160H180v160Zm440 0h160v-160H620v160Z\"/>\n",
              "  </svg>\n",
              "    </button>\n",
              "\n",
              "  <style>\n",
              "    .colab-df-container {\n",
              "      display:flex;\n",
              "      gap: 12px;\n",
              "    }\n",
              "\n",
              "    .colab-df-convert {\n",
              "      background-color: #E8F0FE;\n",
              "      border: none;\n",
              "      border-radius: 50%;\n",
              "      cursor: pointer;\n",
              "      display: none;\n",
              "      fill: #1967D2;\n",
              "      height: 32px;\n",
              "      padding: 0 0 0 0;\n",
              "      width: 32px;\n",
              "    }\n",
              "\n",
              "    .colab-df-convert:hover {\n",
              "      background-color: #E2EBFA;\n",
              "      box-shadow: 0px 1px 2px rgba(60, 64, 67, 0.3), 0px 1px 3px 1px rgba(60, 64, 67, 0.15);\n",
              "      fill: #174EA6;\n",
              "    }\n",
              "\n",
              "    .colab-df-buttons div {\n",
              "      margin-bottom: 4px;\n",
              "    }\n",
              "\n",
              "    [theme=dark] .colab-df-convert {\n",
              "      background-color: #3B4455;\n",
              "      fill: #D2E3FC;\n",
              "    }\n",
              "\n",
              "    [theme=dark] .colab-df-convert:hover {\n",
              "      background-color: #434B5C;\n",
              "      box-shadow: 0px 1px 3px 1px rgba(0, 0, 0, 0.15);\n",
              "      filter: drop-shadow(0px 1px 2px rgba(0, 0, 0, 0.3));\n",
              "      fill: #FFFFFF;\n",
              "    }\n",
              "  </style>\n",
              "\n",
              "    <script>\n",
              "      const buttonEl =\n",
              "        document.querySelector('#df-eeb41d8b-35bf-4c57-84f7-d46c2a48d8ac button.colab-df-convert');\n",
              "      buttonEl.style.display =\n",
              "        google.colab.kernel.accessAllowed ? 'block' : 'none';\n",
              "\n",
              "      async function convertToInteractive(key) {\n",
              "        const element = document.querySelector('#df-eeb41d8b-35bf-4c57-84f7-d46c2a48d8ac');\n",
              "        const dataTable =\n",
              "          await google.colab.kernel.invokeFunction('convertToInteractive',\n",
              "                                                    [key], {});\n",
              "        if (!dataTable) return;\n",
              "\n",
              "        const docLinkHtml = 'Like what you see? Visit the ' +\n",
              "          '<a target=\"_blank\" href=https://colab.research.google.com/notebooks/data_table.ipynb>data table notebook</a>'\n",
              "          + ' to learn more about interactive tables.';\n",
              "        element.innerHTML = '';\n",
              "        dataTable['output_type'] = 'display_data';\n",
              "        await google.colab.output.renderOutput(dataTable, element);\n",
              "        const docLink = document.createElement('div');\n",
              "        docLink.innerHTML = docLinkHtml;\n",
              "        element.appendChild(docLink);\n",
              "      }\n",
              "    </script>\n",
              "  </div>\n",
              "\n",
              "\n",
              "<div id=\"df-c9396fc8-27ea-447c-890d-b17217a064eb\">\n",
              "  <button class=\"colab-df-quickchart\" onclick=\"quickchart('df-c9396fc8-27ea-447c-890d-b17217a064eb')\"\n",
              "            title=\"Suggest charts\"\n",
              "            style=\"display:none;\">\n",
              "\n",
              "<svg xmlns=\"http://www.w3.org/2000/svg\" height=\"24px\"viewBox=\"0 0 24 24\"\n",
              "     width=\"24px\">\n",
              "    <g>\n",
              "        <path d=\"M19 3H5c-1.1 0-2 .9-2 2v14c0 1.1.9 2 2 2h14c1.1 0 2-.9 2-2V5c0-1.1-.9-2-2-2zM9 17H7v-7h2v7zm4 0h-2V7h2v10zm4 0h-2v-4h2v4z\"/>\n",
              "    </g>\n",
              "</svg>\n",
              "  </button>\n",
              "\n",
              "<style>\n",
              "  .colab-df-quickchart {\n",
              "      --bg-color: #E8F0FE;\n",
              "      --fill-color: #1967D2;\n",
              "      --hover-bg-color: #E2EBFA;\n",
              "      --hover-fill-color: #174EA6;\n",
              "      --disabled-fill-color: #AAA;\n",
              "      --disabled-bg-color: #DDD;\n",
              "  }\n",
              "\n",
              "  [theme=dark] .colab-df-quickchart {\n",
              "      --bg-color: #3B4455;\n",
              "      --fill-color: #D2E3FC;\n",
              "      --hover-bg-color: #434B5C;\n",
              "      --hover-fill-color: #FFFFFF;\n",
              "      --disabled-bg-color: #3B4455;\n",
              "      --disabled-fill-color: #666;\n",
              "  }\n",
              "\n",
              "  .colab-df-quickchart {\n",
              "    background-color: var(--bg-color);\n",
              "    border: none;\n",
              "    border-radius: 50%;\n",
              "    cursor: pointer;\n",
              "    display: none;\n",
              "    fill: var(--fill-color);\n",
              "    height: 32px;\n",
              "    padding: 0;\n",
              "    width: 32px;\n",
              "  }\n",
              "\n",
              "  .colab-df-quickchart:hover {\n",
              "    background-color: var(--hover-bg-color);\n",
              "    box-shadow: 0 1px 2px rgba(60, 64, 67, 0.3), 0 1px 3px 1px rgba(60, 64, 67, 0.15);\n",
              "    fill: var(--button-hover-fill-color);\n",
              "  }\n",
              "\n",
              "  .colab-df-quickchart-complete:disabled,\n",
              "  .colab-df-quickchart-complete:disabled:hover {\n",
              "    background-color: var(--disabled-bg-color);\n",
              "    fill: var(--disabled-fill-color);\n",
              "    box-shadow: none;\n",
              "  }\n",
              "\n",
              "  .colab-df-spinner {\n",
              "    border: 2px solid var(--fill-color);\n",
              "    border-color: transparent;\n",
              "    border-bottom-color: var(--fill-color);\n",
              "    animation:\n",
              "      spin 1s steps(1) infinite;\n",
              "  }\n",
              "\n",
              "  @keyframes spin {\n",
              "    0% {\n",
              "      border-color: transparent;\n",
              "      border-bottom-color: var(--fill-color);\n",
              "      border-left-color: var(--fill-color);\n",
              "    }\n",
              "    20% {\n",
              "      border-color: transparent;\n",
              "      border-left-color: var(--fill-color);\n",
              "      border-top-color: var(--fill-color);\n",
              "    }\n",
              "    30% {\n",
              "      border-color: transparent;\n",
              "      border-left-color: var(--fill-color);\n",
              "      border-top-color: var(--fill-color);\n",
              "      border-right-color: var(--fill-color);\n",
              "    }\n",
              "    40% {\n",
              "      border-color: transparent;\n",
              "      border-right-color: var(--fill-color);\n",
              "      border-top-color: var(--fill-color);\n",
              "    }\n",
              "    60% {\n",
              "      border-color: transparent;\n",
              "      border-right-color: var(--fill-color);\n",
              "    }\n",
              "    80% {\n",
              "      border-color: transparent;\n",
              "      border-right-color: var(--fill-color);\n",
              "      border-bottom-color: var(--fill-color);\n",
              "    }\n",
              "    90% {\n",
              "      border-color: transparent;\n",
              "      border-bottom-color: var(--fill-color);\n",
              "    }\n",
              "  }\n",
              "</style>\n",
              "\n",
              "  <script>\n",
              "    async function quickchart(key) {\n",
              "      const quickchartButtonEl =\n",
              "        document.querySelector('#' + key + ' button');\n",
              "      quickchartButtonEl.disabled = true;  // To prevent multiple clicks.\n",
              "      quickchartButtonEl.classList.add('colab-df-spinner');\n",
              "      try {\n",
              "        const charts = await google.colab.kernel.invokeFunction(\n",
              "            'suggestCharts', [key], {});\n",
              "      } catch (error) {\n",
              "        console.error('Error during call to suggestCharts:', error);\n",
              "      }\n",
              "      quickchartButtonEl.classList.remove('colab-df-spinner');\n",
              "      quickchartButtonEl.classList.add('colab-df-quickchart-complete');\n",
              "    }\n",
              "    (() => {\n",
              "      let quickchartButtonEl =\n",
              "        document.querySelector('#df-c9396fc8-27ea-447c-890d-b17217a064eb button');\n",
              "      quickchartButtonEl.style.display =\n",
              "        google.colab.kernel.accessAllowed ? 'block' : 'none';\n",
              "    })();\n",
              "  </script>\n",
              "</div>\n",
              "\n",
              "    </div>\n",
              "  </div>\n"
            ],
            "application/vnd.google.colaboratory.intrinsic+json": {
              "type": "dataframe",
              "variable_name": "results",
              "summary": "{\n  \"name\": \"results\",\n  \"rows\": 3000,\n  \"fields\": [\n    {\n      \"column\": \"income\",\n      \"properties\": {\n        \"dtype\": \"number\",\n        \"std\": 20687.12675282348,\n        \"min\": 10140.0,\n        \"max\": 198000.0,\n        \"num_unique_values\": 2029,\n        \"samples\": [\n          72154.25,\n          111400.0,\n          83480.0\n        ],\n        \"semantic_type\": \"\",\n        \"description\": \"\"\n      }\n    },\n    {\n      \"column\": \"type\",\n      \"properties\": {\n        \"dtype\": \"category\",\n        \"num_unique_values\": 3,\n        \"samples\": [\n          \"Data\",\n          \"Mean of 5\",\n          \"Mean of 20\"\n        ],\n        \"semantic_type\": \"\",\n        \"description\": \"\"\n      }\n    }\n  ]\n}"
            }
          },
          "metadata": {},
          "execution_count": 11
        }
      ]
    },
    {
      "cell_type": "code",
      "source": [
        "g = sns.FacetGrid(results, col = 'type', col_wrap = 1, height = 2, aspect = 2)\n",
        "g.map(plt.hist, 'income', range = [0, 200000], bins = 40)\n",
        "g.set_axis_labels('income', 'Count')\n",
        "g.set_titles('{col_name}')\n",
        "\n",
        "plt.tight_layout()\n",
        "plt.show()"
      ],
      "metadata": {
        "colab": {
          "base_uri": "https://localhost:8080/",
          "height": 606
        },
        "id": "0cVlEP4d0krv",
        "outputId": "cc95fa03-4528-45f1-f15e-e204a9391559"
      },
      "execution_count": 12,
      "outputs": [
        {
          "output_type": "display_data",
          "data": {
            "text/plain": [
              "<Figure size 400x600 with 3 Axes>"
            ],
            "image/png": "[encoded data removed]"
          },
          "metadata": {}
        }
      ]
    },
    {
      "cell_type": "markdown",
      "source": [
        "### **Chapter02.04 부트스트랩 (84p)**"
      ],
      "metadata": {
        "id": "CxsDOVOMTSjT"
      }
    },
    {
      "cell_type": "markdown",
      "source": [
        "* **부트스트랩 (BootStrap)**\n",
        "  * 통계량이나 모델 파라미터의 표본분포를 추정하는 쉽고 효과적인 방법으로 ***현재 있는 표본에서 추가적으로 표본을 복원추출***하고 각 표본에 대한 통계량과 모델을 다시 계산하는 것\n",
        "  * 개념적으로 원래 표본을 수천, 수백만 번 복제하는 것\n",
        "  * 모집단에서 추가적으로 표본을 뽑는다고 할 때, 그 표본이 얼마나 원래 표본과 비슷할지 알려주는 역활\n",
        "  * 예측 모델을 적용할 때, ***여러 부트스트랩 표본들로부터 얻은 예측값들을 모아서 결론을 만드는 것 (배깅)***이 단일 모델을 사용하는 것보다 좋음"
      ],
      "metadata": {
        "id": "iVRxfxvg-syN"
      }
    },
    {
      "cell_type": "code",
      "source": [
        "results = []\n",
        "for nrepeat in range(1000):\n",
        "    sample = resample('/content/loans_income.csv')\n",
        "    sample = np.array(sample)\n",
        "    results.append(np.median(sample))\n",
        "results = pd.Series(results)\n",
        "\n",
        "print('Bootstrap Statistics:')\n",
        "print(f'original: {loans_income.median()}')\n",
        "print(f'bias: {results.mean() - loans_income.median()}')\n",
        "print(f'std. error: {results.std()}')"
      ],
      "metadata": {
        "id": "VWF0l_LPTXYz",
        "colab": {
          "base_uri": "https://localhost:8080/",
          "height": 356
        },
        "outputId": "7ee1bdca-2768-4741-8533-212187eca1e8"
      },
      "execution_count": 28,
      "outputs": [
        {
          "output_type": "error",
          "ename": "UFuncTypeError",
          "evalue": "ufunc 'add' did not contain a loop with signature matching types (dtype('<U1'), dtype('<U1')) -> None",
          "traceback": [
            "\u001b[0;31m---------------------------------------------------------------------------\u001b[0m",
            "\u001b[0;31mUFuncTypeError\u001b[0m                            Traceback (most recent call last)",
            "\u001b[0;32m<ipython-input-28-070e2fef3c49>\u001b[0m in \u001b[0;36m<cell line: 2>\u001b[0;34m()\u001b[0m\n\u001b[1;32m      3\u001b[0m     \u001b[0msample\u001b[0m \u001b[0;34m=\u001b[0m \u001b[0mresample\u001b[0m\u001b[0;34m(\u001b[0m\u001b[0;34m'/content/loans_income.csv'\u001b[0m\u001b[0;34m)\u001b[0m\u001b[0;34m\u001b[0m\u001b[0;34m\u001b[0m\u001b[0m\n\u001b[1;32m      4\u001b[0m     \u001b[0msample\u001b[0m \u001b[0;34m=\u001b[0m \u001b[0mnp\u001b[0m\u001b[0;34m.\u001b[0m\u001b[0marray\u001b[0m\u001b[0;34m(\u001b[0m\u001b[0msample\u001b[0m\u001b[0;34m)\u001b[0m\u001b[0;34m\u001b[0m\u001b[0;34m\u001b[0m\u001b[0m\n\u001b[0;32m----> 5\u001b[0;31m     \u001b[0mresults\u001b[0m\u001b[0;34m.\u001b[0m\u001b[0mappend\u001b[0m\u001b[0;34m(\u001b[0m\u001b[0mnp\u001b[0m\u001b[0;34m.\u001b[0m\u001b[0mmedian\u001b[0m\u001b[0;34m(\u001b[0m\u001b[0msample\u001b[0m\u001b[0;34m)\u001b[0m\u001b[0;34m)\u001b[0m\u001b[0;34m\u001b[0m\u001b[0;34m\u001b[0m\u001b[0m\n\u001b[0m\u001b[1;32m      6\u001b[0m \u001b[0mresults\u001b[0m \u001b[0;34m=\u001b[0m \u001b[0mpd\u001b[0m\u001b[0;34m.\u001b[0m\u001b[0mSeries\u001b[0m\u001b[0;34m(\u001b[0m\u001b[0mresults\u001b[0m\u001b[0;34m)\u001b[0m\u001b[0;34m\u001b[0m\u001b[0;34m\u001b[0m\u001b[0m\n\u001b[1;32m      7\u001b[0m \u001b[0;34m\u001b[0m\u001b[0m\n",
            "\u001b[0;32m/usr/local/lib/python3.10/dist-packages/numpy/lib/function_base.py\u001b[0m in \u001b[0;36mmedian\u001b[0;34m(a, axis, out, overwrite_input, keepdims)\u001b[0m\n\u001b[1;32m   3925\u001b[0m \u001b[0;34m\u001b[0m\u001b[0m\n\u001b[1;32m   3926\u001b[0m     \"\"\"\n\u001b[0;32m-> 3927\u001b[0;31m     return _ureduce(a, func=_median, keepdims=keepdims, axis=axis, out=out,\n\u001b[0m\u001b[1;32m   3928\u001b[0m                     overwrite_input=overwrite_input)\n\u001b[1;32m   3929\u001b[0m \u001b[0;34m\u001b[0m\u001b[0m\n",
            "\u001b[0;32m/usr/local/lib/python3.10/dist-packages/numpy/lib/function_base.py\u001b[0m in \u001b[0;36m_ureduce\u001b[0;34m(a, func, keepdims, **kwargs)\u001b[0m\n\u001b[1;32m   3821\u001b[0m                 \u001b[0mkwargs\u001b[0m\u001b[0;34m[\u001b[0m\u001b[0;34m'out'\u001b[0m\u001b[0;34m]\u001b[0m \u001b[0;34m=\u001b[0m \u001b[0mout\u001b[0m\u001b[0;34m[\u001b[0m\u001b[0;34m(\u001b[0m\u001b[0mEllipsis\u001b[0m\u001b[0;34m,\u001b[0m \u001b[0;34m)\u001b[0m \u001b[0;34m+\u001b[0m \u001b[0mindex_out\u001b[0m\u001b[0;34m]\u001b[0m\u001b[0;34m\u001b[0m\u001b[0;34m\u001b[0m\u001b[0m\n\u001b[1;32m   3822\u001b[0m \u001b[0;34m\u001b[0m\u001b[0m\n\u001b[0;32m-> 3823\u001b[0;31m     \u001b[0mr\u001b[0m \u001b[0;34m=\u001b[0m \u001b[0mfunc\u001b[0m\u001b[0;34m(\u001b[0m\u001b[0ma\u001b[0m\u001b[0;34m,\u001b[0m \u001b[0;34m**\u001b[0m\u001b[0mkwargs\u001b[0m\u001b[0;34m)\u001b[0m\u001b[0;34m\u001b[0m\u001b[0;34m\u001b[0m\u001b[0m\n\u001b[0m\u001b[1;32m   3824\u001b[0m \u001b[0;34m\u001b[0m\u001b[0m\n\u001b[1;32m   3825\u001b[0m     \u001b[0;32mif\u001b[0m \u001b[0mout\u001b[0m \u001b[0;32mis\u001b[0m \u001b[0;32mnot\u001b[0m \u001b[0;32mNone\u001b[0m\u001b[0;34m:\u001b[0m\u001b[0;34m\u001b[0m\u001b[0;34m\u001b[0m\u001b[0m\n",
            "\u001b[0;32m/usr/local/lib/python3.10/dist-packages/numpy/lib/function_base.py\u001b[0m in \u001b[0;36m_median\u001b[0;34m(a, axis, out, overwrite_input)\u001b[0m\n\u001b[1;32m   3977\u001b[0m     \u001b[0;31m# Use mean in both odd and even case to coerce data type,\u001b[0m\u001b[0;34m\u001b[0m\u001b[0;34m\u001b[0m\u001b[0m\n\u001b[1;32m   3978\u001b[0m     \u001b[0;31m# using out array if needed.\u001b[0m\u001b[0;34m\u001b[0m\u001b[0;34m\u001b[0m\u001b[0m\n\u001b[0;32m-> 3979\u001b[0;31m     \u001b[0mrout\u001b[0m \u001b[0;34m=\u001b[0m \u001b[0mmean\u001b[0m\u001b[0;34m(\u001b[0m\u001b[0mpart\u001b[0m\u001b[0;34m[\u001b[0m\u001b[0mindexer\u001b[0m\u001b[0;34m]\u001b[0m\u001b[0;34m,\u001b[0m \u001b[0maxis\u001b[0m\u001b[0;34m=\u001b[0m\u001b[0maxis\u001b[0m\u001b[0;34m,\u001b[0m \u001b[0mout\u001b[0m\u001b[0;34m=\u001b[0m\u001b[0mout\u001b[0m\u001b[0;34m)\u001b[0m\u001b[0;34m\u001b[0m\u001b[0;34m\u001b[0m\u001b[0m\n\u001b[0m\u001b[1;32m   3980\u001b[0m     \u001b[0;32mif\u001b[0m \u001b[0msupports_nans\u001b[0m \u001b[0;32mand\u001b[0m \u001b[0msz\u001b[0m \u001b[0;34m>\u001b[0m \u001b[0;36m0\u001b[0m\u001b[0;34m:\u001b[0m\u001b[0;34m\u001b[0m\u001b[0;34m\u001b[0m\u001b[0m\n\u001b[1;32m   3981\u001b[0m         \u001b[0;31m# If nans are possible, warn and replace by nans like mean would.\u001b[0m\u001b[0;34m\u001b[0m\u001b[0;34m\u001b[0m\u001b[0m\n",
            "\u001b[0;32m/usr/local/lib/python3.10/dist-packages/numpy/core/fromnumeric.py\u001b[0m in \u001b[0;36mmean\u001b[0;34m(a, axis, dtype, out, keepdims, where)\u001b[0m\n\u001b[1;32m   3502\u001b[0m             \u001b[0;32mreturn\u001b[0m \u001b[0mmean\u001b[0m\u001b[0;34m(\u001b[0m\u001b[0maxis\u001b[0m\u001b[0;34m=\u001b[0m\u001b[0maxis\u001b[0m\u001b[0;34m,\u001b[0m \u001b[0mdtype\u001b[0m\u001b[0;34m=\u001b[0m\u001b[0mdtype\u001b[0m\u001b[0;34m,\u001b[0m \u001b[0mout\u001b[0m\u001b[0;34m=\u001b[0m\u001b[0mout\u001b[0m\u001b[0;34m,\u001b[0m \u001b[0;34m**\u001b[0m\u001b[0mkwargs\u001b[0m\u001b[0;34m)\u001b[0m\u001b[0;34m\u001b[0m\u001b[0;34m\u001b[0m\u001b[0m\n\u001b[1;32m   3503\u001b[0m \u001b[0;34m\u001b[0m\u001b[0m\n\u001b[0;32m-> 3504\u001b[0;31m     return _methods._mean(a, axis=axis, dtype=dtype,\n\u001b[0m\u001b[1;32m   3505\u001b[0m                           out=out, **kwargs)\n\u001b[1;32m   3506\u001b[0m \u001b[0;34m\u001b[0m\u001b[0m\n",
            "\u001b[0;32m/usr/local/lib/python3.10/dist-packages/numpy/core/_methods.py\u001b[0m in \u001b[0;36m_mean\u001b[0;34m(a, axis, dtype, out, keepdims, where)\u001b[0m\n\u001b[1;32m    116\u001b[0m             \u001b[0mis_float16_result\u001b[0m \u001b[0;34m=\u001b[0m \u001b[0;32mTrue\u001b[0m\u001b[0;34m\u001b[0m\u001b[0;34m\u001b[0m\u001b[0m\n\u001b[1;32m    117\u001b[0m \u001b[0;34m\u001b[0m\u001b[0m\n\u001b[0;32m--> 118\u001b[0;31m     \u001b[0mret\u001b[0m \u001b[0;34m=\u001b[0m \u001b[0mumr_sum\u001b[0m\u001b[0;34m(\u001b[0m\u001b[0marr\u001b[0m\u001b[0;34m,\u001b[0m \u001b[0maxis\u001b[0m\u001b[0;34m,\u001b[0m \u001b[0mdtype\u001b[0m\u001b[0;34m,\u001b[0m \u001b[0mout\u001b[0m\u001b[0;34m,\u001b[0m \u001b[0mkeepdims\u001b[0m\u001b[0;34m,\u001b[0m \u001b[0mwhere\u001b[0m\u001b[0;34m=\u001b[0m\u001b[0mwhere\u001b[0m\u001b[0;34m)\u001b[0m\u001b[0;34m\u001b[0m\u001b[0;34m\u001b[0m\u001b[0m\n\u001b[0m\u001b[1;32m    119\u001b[0m     \u001b[0;32mif\u001b[0m \u001b[0misinstance\u001b[0m\u001b[0;34m(\u001b[0m\u001b[0mret\u001b[0m\u001b[0;34m,\u001b[0m \u001b[0mmu\u001b[0m\u001b[0;34m.\u001b[0m\u001b[0mndarray\u001b[0m\u001b[0;34m)\u001b[0m\u001b[0;34m:\u001b[0m\u001b[0;34m\u001b[0m\u001b[0;34m\u001b[0m\u001b[0m\n\u001b[1;32m    120\u001b[0m         \u001b[0;32mwith\u001b[0m \u001b[0m_no_nep50_warning\u001b[0m\u001b[0;34m(\u001b[0m\u001b[0;34m)\u001b[0m\u001b[0;34m:\u001b[0m\u001b[0;34m\u001b[0m\u001b[0;34m\u001b[0m\u001b[0m\n",
            "\u001b[0;31mUFuncTypeError\u001b[0m: ufunc 'add' did not contain a loop with signature matching types (dtype('<U1'), dtype('<U1')) -> None"
          ]
        }
      ]
    },
    {
      "cell_type": "markdown",
      "source": [
        "### **Chapter02.05 신뢰구간 (89p)**"
      ],
      "metadata": {
        "id": "D9KeZpQqTX_X"
      }
    },
    {
      "cell_type": "markdown",
      "source": [
        "* **신뢰수준 (Confidence Level)**\n",
        "  * 같은 모집단으로부터 같은 방식으로 얻은, ***관심 통계량을 포함할 것으로 예상되는 신뢰구간의 백뷴율***\n",
        "* **구간끝점**\n",
        "  * 신뢰구간의 최상위, 최하위 끝점"
      ],
      "metadata": {
        "id": "q1jPitzZgfH-"
      }
    },
    {
      "cell_type": "code",
      "source": [
        "print(loans_income.mean())\n",
        "np.random.seed(seed=3)\n",
        "# create a sample of 20 loan income data\n",
        "sample20 = resample(loans_income, n_samples=20, replace=False)\n",
        "print(sample20.mean())\n",
        "results = []\n",
        "for nrepeat in range(500):\n",
        "    sample = resample(sample20)\n",
        "    results.append(sample.mean())\n",
        "results = pd.Series(results)\n",
        "\n",
        "confidence_interval = list(results.quantile([0.05, 0.95]))\n",
        "ax = results.plot.hist(bins=30, figsize=(4, 3))\n",
        "ax.plot(confidence_interval, [55, 55], color='black')\n",
        "for x in confidence_interval:\n",
        "    ax.plot([x, x], [0, 65], color='black')\n",
        "    ax.text(x, 70, f'{x:.0f}',\n",
        "            horizontalalignment='center', verticalalignment='center')\n",
        "ax.text(sum(confidence_interval) / 2, 60, '90% interval',\n",
        "        horizontalalignment='center', verticalalignment='center')\n",
        "\n",
        "meanIncome = results.mean()\n",
        "ax.plot([meanIncome, meanIncome], [0, 50], color='black', linestyle='--')\n",
        "ax.text(meanIncome, 10, f'Mean: {meanIncome:.0f}',\n",
        "        bbox=dict(facecolor='white', edgecolor='white', alpha=0.5),\n",
        "        horizontalalignment='center', verticalalignment='center')\n",
        "ax.set_ylim(0, 80)\n",
        "ax.set_ylabel('Counts')\n",
        "\n",
        "plt.tight_layout()\n",
        "plt.show()"
      ],
      "metadata": {
        "id": "hqj0mX8yTYRq",
        "colab": {
          "base_uri": "https://localhost:8080/",
          "height": 341
        },
        "outputId": "327a03df-b8c0-44e7-ae5e-4925113f2428"
      },
      "execution_count": 29,
      "outputs": [
        {
          "output_type": "stream",
          "name": "stdout",
          "text": [
            "68760.51844\n",
            "55734.1\n"
          ]
        },
        {
          "output_type": "display_data",
          "data": {
            "text/plain": [
              "<Figure size 400x300 with 1 Axes>"
            ],
            "image/png": "[encoded data removed]"
          },
          "metadata": {}
        }
      ]
    },
    {
      "cell_type": "code",
      "source": [
        "np.random.seed(seed=3)\n",
        "# create a sample of 20 loan income data\n",
        "sample20 = resample(loans_income, n_samples=20, replace=False)\n",
        "\n",
        "results = []\n",
        "for nrepeat in range(500):\n",
        "    sample = resample(sample20)\n",
        "    results.append(sample.mean())\n",
        "results = pd.Series(results)\n",
        "\n",
        "confidence_interval = list(results.quantile([0.05, 0.95]))\n",
        "ax = results.plot.hist(bins=30, figsize=(4, 3), color='C1')\n",
        "ax.plot(confidence_interval, [55, 55], color='black', linestyle='--')\n",
        "for x in confidence_interval:\n",
        "    ax.plot([x, x], [0, 60], color='black')\n",
        "ax.text(82000, 50,\n",
        "        f'90% CI\\n[{confidence_interval[0]:.0f}, {confidence_interval[1]:.0f}]',\n",
        "       fontsize='small')\n",
        "\n",
        "confidence_interval = list(results.quantile([0.025, 0.975]))\n",
        "ax = results.plot.hist(bins=30, figsize=(4, 3))\n",
        "ax.plot(confidence_interval, [65, 65], color='black', linestyle='--')\n",
        "for x in confidence_interval:\n",
        "    ax.plot([x, x], [0, 70], color='black')\n",
        "ax.text(82000, 65,\n",
        "        f'95% CI\\n[{confidence_interval[0]:.0f}, {confidence_interval[1]:.0f}]',\n",
        "       fontsize='small')\n",
        "# ax.text(sum(confidence_interval) / 2, 264, '95 % interval',\n",
        "#         horizontalalignment='center', verticalalignment='center')\n",
        "\n",
        "meanIncome = results.mean()\n",
        "ax.plot([meanIncome, meanIncome], [0, 50], color='black', linestyle='--')\n",
        "ax.text(meanIncome, 5, f'Mean: {meanIncome:.0f}',\n",
        "        bbox=dict(facecolor='white', edgecolor='white', alpha=0.5),\n",
        "        horizontalalignment='center', verticalalignment='center')\n",
        "ax.set_ylim(0, 80)\n",
        "ax.set_xlim(37000, 102000)\n",
        "ax.set_xticks([40000, 50000, 60000, 70000, 80000])\n",
        "ax.set_ylabel('Counts')\n",
        "\n",
        "# plt.tight_layout()\n",
        "# plt.show()"
      ],
      "metadata": {
        "colab": {
          "base_uri": "https://localhost:8080/",
          "height": 314
        },
        "id": "QdRVjsfsiO-7",
        "outputId": "767404e8-db56-43e0-eba2-fd829e0396dc"
      },
      "execution_count": 30,
      "outputs": [
        {
          "output_type": "execute_result",
          "data": {
            "text/plain": [
              "Text(0, 0.5, 'Counts')"
            ]
          },
          "metadata": {},
          "execution_count": 30
        },
        {
          "output_type": "display_data",
          "data": {
            "text/plain": [
              "<Figure size 400x300 with 1 Axes>"
            ],
            "image/png": "[encoded data removed]"
          },
          "metadata": {}
        }
      ]
    },
    {
      "cell_type": "markdown",
      "source": [
        "### **Chapter02.06 정규분포 (92p)**"
      ],
      "metadata": {
        "id": "ErW9X19QTmsx"
      }
    },
    {
      "cell_type": "markdown",
      "source": [
        "* **정규분포 (Normal Distribution)**\n",
        "  * 전통적인 통계의 상징"
      ],
      "metadata": {
        "id": "0JRqmPakqNsn"
      }
    },
    {
      "cell_type": "code",
      "source": [],
      "metadata": {
        "id": "TapRmOa1TwNM"
      },
      "execution_count": null,
      "outputs": []
    },
    {
      "cell_type": "markdown",
      "source": [
        "### **Chapter02.07 긴 꼬리 분포 (95p)**"
      ],
      "metadata": {
        "id": "5pG1-DjmTy9V"
      }
    },
    {
      "cell_type": "code",
      "source": [],
      "metadata": {
        "id": "MinJZoGNTzPS"
      },
      "execution_count": null,
      "outputs": []
    },
    {
      "cell_type": "markdown",
      "source": [
        "### **Chapter02.08 스튜던트의 t 분포 (97p)**"
      ],
      "metadata": {
        "id": "9sTfNA0XT7E9"
      }
    },
    {
      "cell_type": "code",
      "source": [],
      "metadata": {
        "id": "tFuoeUXFT6hs"
      },
      "execution_count": null,
      "outputs": []
    },
    {
      "cell_type": "markdown",
      "source": [
        "### **Chapter02.09 이항분포 (100p)**"
      ],
      "metadata": {
        "id": "gqCkiqeEUDxC"
      }
    },
    {
      "cell_type": "code",
      "source": [],
      "metadata": {
        "id": "uOhSmLIxUDeK"
      },
      "execution_count": null,
      "outputs": []
    },
    {
      "cell_type": "markdown",
      "source": [
        "### **Chapter02.10 카이제곱분포 (102p)**"
      ],
      "metadata": {
        "id": "1y5CfGB7UKq2"
      }
    },
    {
      "cell_type": "code",
      "source": [],
      "metadata": {
        "id": "6IB2dn6gUPFw"
      },
      "execution_count": null,
      "outputs": []
    },
    {
      "cell_type": "markdown",
      "source": [
        "### **Chapter02.11 F 분포 (103p)**"
      ],
      "metadata": {
        "id": "veWePCEMUPa2"
      }
    },
    {
      "cell_type": "code",
      "source": [],
      "metadata": {
        "id": "Ud08uLoqUU0y"
      },
      "execution_count": null,
      "outputs": []
    },
    {
      "cell_type": "markdown",
      "source": [
        "### **Chapter02.12 푸아송 분포와 그 외 관련 분포들 (104p)**"
      ],
      "metadata": {
        "id": "fmPvKFlzUVMO"
      }
    },
    {
      "cell_type": "code",
      "source": [],
      "metadata": {
        "id": "ZA-TtD56UdnT"
      },
      "execution_count": null,
      "outputs": []
    }
  ]
}