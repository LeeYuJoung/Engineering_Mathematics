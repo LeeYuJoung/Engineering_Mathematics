{
  "nbformat": 4,
  "nbformat_minor": 0,
  "metadata": {
    "colab": {
      "provenance": []
    },
    "kernelspec": {
      "name": "python3",
      "display_name": "Python 3"
    },
    "language_info": {
      "name": "python"
    }
  },
  "cells": [
    {
      "cell_type": "markdown",
      "source": [
        "## **Chapter01. 탐색적 데이터 분석 (20~67p)**"
      ],
      "metadata": {
        "id": "sJQCa7E5Afgp"
      }
    },
    {
      "cell_type": "markdown",
      "source": [
        "### **Chapter01.01 정형화된 데이터의 요소 (20p)**"
      ],
      "metadata": {
        "id": "IIUVvdolAm9f"
      }
    },
    {
      "cell_type": "markdown",
      "source": [
        "* **추론**\n",
        "  * 적은 표본(샘플)을 가지고 더 큰 모집단에 대한 결론을 도출하기 위한 일련의 복잡한 과정"
      ],
      "metadata": {
        "id": "OPXZP1b9A3U9"
      }
    },
    {
      "cell_type": "markdown",
      "source": [
        "* **정형 데이터의 기본 종류**\n",
        "  * **수치형 데이터 ➜ 숫자를 이용해 표현할 수 있는 데이터**\n",
        "    * **연속형 데이터 (Continuous)**\n",
        "      * 일정 범위 안에서 어떤 값이든 취할 수 있은 데이터   (예 : 풍속, 지속 시간 등....)\n",
        "    * **이산형 데이터 (Discrete)**\n",
        "      * 횟수와 같은 정수 값만 취할 수 있는 데이터 (예 : 사건의 발생 빈도 등...)\n",
        "  * **범주형 데이터 ➜ 가능한 범주 안의 값만을 취하는 데이터**\n",
        "    * **이진 데이터 (Binary)**\n",
        "      * 두 개의 값만을 갖는 범주형 데이터의 특수한 경우 (예 : 참/거짓 등...)\n",
        "    * **순서형 데이터 (Ordinal)**\n",
        "      * 값들 사이에 분명한 순위가 있는 데이터 (예 : 평점 등...)"
      ],
      "metadata": {
        "id": "J0zzuOfSHkRd"
      }
    },
    {
      "cell_type": "markdown",
      "source": [
        "### **Chapter01.02 테이블 데이터 (24p)**"
      ],
      "metadata": {
        "id": "B7vnmT9Md8TY"
      }
    },
    {
      "cell_type": "markdown",
      "source": [
        "* **테이블 데이터**\n",
        "  * 각 ***레코드(사건, 사례, 예제, 관측값, 패턴, 샘플)***를 나타내는 행과, ***피처 (변수, 특징, 속성, 입력, 예측변수)***를 나타내는 열로 이루어진 이차원 행렬을 의미하는 일반적인 용어"
      ],
      "metadata": {
        "id": "xmT86qcBfeIR"
      }
    },
    {
      "cell_type": "markdown",
      "source": [
        "* **시계열 데이터**\n",
        "  * 동일한 변수 안에 연속적인 측정값을 가지며, 이는 통계적 예측 기법들을 위한 원재료가 되며, 다양한 디바이스에서 생성되는 데이터들에게 중요한 요소"
      ],
      "metadata": {
        "id": "claxAm2Wi8FD"
      }
    },
    {
      "cell_type": "markdown",
      "source": [
        "* **공간 데이터**\n",
        "  * 지도 제작과 위치 정보 분석에 사용되는 데이터\n",
        "  * ***객체(object)***를 표현할 때는, 어떤 객체와 그것의 공간 좌표가 데이터의 중심\n",
        "    * 객체란 하나의 실체로 인식될 수 있는 것들과 그것의 위치 정보 의미 (예 : 건물, 도로 등)\n",
        "  * ***필드(field) 정보***는 공간을 나타내는 작은 단위들과 적당한 측정 기준값에 중점을 둠\n",
        "    * 필드는 일정 공간 상에 연속적으로 분포된 특정 계량값들 의미 (예 : 기온, 수온, 압력 등)"
      ],
      "metadata": {
        "id": "ZD7BJbidkA_9"
      }
    },
    {
      "cell_type": "markdown",
      "source": [
        "* **그래프 데이터**\n",
        "  * 물리적 관계, 사회적 관계 그리고 다소 추상적인 관계들을 표현하기 위해 사용\n",
        "  * 그래프 구조는 특히 네트워크 최적화나 추천 시스템 같은 문제에 유용"
      ],
      "metadata": {
        "id": "e0I9UetokIh1"
      }
    },
    {
      "cell_type": "markdown",
      "source": [
        "### **Chapter01.03 위치 추정 (28p)**"
      ],
      "metadata": {
        "id": "YsspzmD7hTpV"
      }
    },
    {
      "cell_type": "markdown",
      "source": [
        "* **위치**\n",
        "  * 데이터의 특징을 요약하는 다양한 요소들 중 하나"
      ],
      "metadata": {
        "id": "2wzeH-9Yj2f1"
      }
    },
    {
      "cell_type": "markdown",
      "source": [
        "* **대푯값 (Typical Value)**\n",
        "  * 데이터를 살펴보는 가장 기초적인 단계\n",
        "  * 대부분의 값이 어디쯤에 위치하는지 ***중심경향성을 나타내는 추정값***\n",
        "  * 종류\n",
        "    * **평균 (Mean)** ➜ 모든 값의 총합을 개수로 나눈 값\n",
        "    * **절사평균 (Trimmed Mean)** ➜ 정해진 개수의 극단값을 제외한 나머지 값들의 평균\n",
        "    * **가중평균 (Weighted Mean)** ➜ 가중치를 곱한 값의 총합을 가중치의 총합으로 나눈 값\n",
        "    * **중간값 / 중위수 (Mediaan)** ➜ 데이터에서 가장 가운데 위치한 값\n",
        "    * **가중 중간값 (Weighted Median)** ➜ 데이터를 정렬한 후, 각 가중치 값을 위에서부터 더할 때, 총합의 중간이 위치하는 데이터 값\n",
        "    * **백분위수 (Percentile)** ➜ 전체 데이터의 p%를 아래에 두는 값\n",
        "    * **특잇값 (Outlier)** ➜ 대부분의 값과 매우 다른 데이터 값\n",
        "    * **로버스트 (Robust)** ➜ 극단값들에 민감하지 않다는 것을 의미"
      ],
      "metadata": {
        "id": "TG4IoiG9pTY_"
      }
    },
    {
      "cell_type": "markdown",
      "source": [
        "* **평균 (Mean)**\n",
        "  * **모평균** ➜ $μ = \\frac{1}{N} \\displaystyle\\sum_{i=1}^{N} x_i$\n",
        "  * **표본 평균 (모집단 표본의 평균)** ➜ $\\overline X = \\frac{1}{n} \\displaystyle\\sum_{i=1}^{n} x_i$\n",
        "    * $N$은 주로 레코드나 관측값의 개수 나타냄\n",
        "      * ***대문자는 모집단***, ***소문자는 모집단에서 얻은 표본의 개수***를 의미\n",
        "  * **절사평균**\n",
        "    * 값들을 크기 순으로 정렬한 후, ***양끝에서 일정 개수의 값들을 삭제***한 뒤 남은 값들을 가지고 구한 평균\n",
        "    * $p$개의 가장 크고 작은 값들을 제외한 뒤 계산하여 ***극단값의 영향을 제거***\n",
        "    * $\\overline X = \\frac{1}{n-2p} \\displaystyle\\sum_{i=p+1}^{n-p} x_i$\n",
        "  * **가중평균**\n",
        "    * 각 데이터 값 $x_i$에 ***사용자가 지정한 가중치 $w_i$를 곱한 값들의 총합***을 다시 가중치의 총합으로 나눈 값\n",
        "    * $\\overline X_w = \\frac{1}{\\displaystyle\\sum_{i=1}^{n} w_i}\\displaystyle\\sum_{i=1}^{n}w_i x_i$\n",
        "\n"
      ],
      "metadata": {
        "id": "9P_c_mF6qiRR"
      }
    },
    {
      "cell_type": "markdown",
      "source": [
        "* **중간값 (Median)**\n",
        "  * 데이터를 일렬로 정렬했을 때, 한가운데에 위치하는 값\n",
        "  * 결과를 왜곡할 수 있는 특잇값들의 영향을 받지 않음 ➜ ***로버스트한 위치 추정 방법***\n",
        "  * **가중 중간값**\n",
        "    * 어떤 위치를 기준으로 상위 절반의 가중치의 합이 하위 절반의 가중치의 합과 동일한 위치의 값"
      ],
      "metadata": {
        "id": "3npky-XCQ4pH"
      }
    },
    {
      "cell_type": "markdown",
      "source": [
        "* **특잇값 / 극단값 (Outlier)**\n",
        "  * 어떤 데이터 집합에서 다른 값들과 매우 멀리 떨어져 있는 값들\n",
        "  * 데이터 값 자체가 유효하지 않거나, 잘못되었다는 뜻은 아님"
      ],
      "metadata": {
        "id": "Y8wyUoozUvUt"
      }
    },
    {
      "cell_type": "markdown",
      "source": [
        "* **정리**\n",
        "  * 가장 기본적인 위치 추정 기법은 평균이지만, 특잇값에 민감\n",
        "  * 중간값, 절사평균과 같은 방법이 특잇값이나 이상 데이터에 덜 민감하므로 좀 더 로버스트함"
      ],
      "metadata": {
        "id": "lPzZTjdoi9eQ"
      }
    },
    {
      "cell_type": "code",
      "source": [
        "!pip install wquantiles"
      ],
      "metadata": {
        "id": "P7y_WP2ehS6w"
      },
      "execution_count": null,
      "outputs": []
    },
    {
      "cell_type": "code",
      "source": [
        "### 01.03 예제) 인구에 따른 살인 비율의 위치 추정\n",
        "\n",
        "## import Package\n",
        "%matplotlib inline\n",
        "\n",
        "from pathlib import Path\n",
        "\n",
        "import pandas as pd\n",
        "import numpy as np\n",
        "from scipy.stats import trim_mean\n",
        "from statsmodels import robust\n",
        "import wquantiles\n",
        "\n",
        "import seaborn as sns\n",
        "import matplotlib.pylab as plt"
      ],
      "metadata": {
        "id": "eN4W1vuphUxn"
      },
      "execution_count": 25,
      "outputs": []
    },
    {
      "cell_type": "code",
      "source": [
        "try:\n",
        "    import common\n",
        "    DATA = common.dataDirectory()\n",
        "except ImportError:\n",
        "    DATA = Path().resolve() / 'data'"
      ],
      "metadata": {
        "id": "Qv6VgVrzclBD"
      },
      "execution_count": 3,
      "outputs": []
    },
    {
      "cell_type": "code",
      "source": [
        "## 주별 인구와 살인 비율을 담고 있는 데이터 프레임 state.csv 가져오기\n",
        "sate = pd.read_csv('/content/state.csv')\n",
        "print(state.head(8))"
      ],
      "metadata": {
        "colab": {
          "base_uri": "https://localhost:8080/"
        },
        "id": "lCMYC-v4crfN",
        "outputId": "63776a92-ffbb-4356-e81e-fd00d2bd68b7"
      },
      "execution_count": 26,
      "outputs": [
        {
          "output_type": "stream",
          "name": "stdout",
          "text": [
            "         State  Population  Murder.Rate Abbreviation\n",
            "0      Alabama     4779736          5.7           AL\n",
            "1       Alaska      710231          5.6           AK\n",
            "2      Arizona     6392017          4.7           AZ\n",
            "3     Arkansas     2915918          5.6           AR\n",
            "4   California    37253956          4.4           CA\n",
            "5     Colorado     5029196          2.8           CO\n",
            "6  Connecticut     3574097          2.4           CT\n",
            "7     Delaware      897934          5.8           DE\n"
          ]
        }
      ]
    },
    {
      "cell_type": "code",
      "source": [
        "## Population(인구수) 평균\n",
        "print(state['Population'].mean())"
      ],
      "metadata": {
        "colab": {
          "base_uri": "https://localhost:8080/"
        },
        "id": "bjvzQydueBhv",
        "outputId": "d7ad1c9a-9285-4150-f9c2-6aacf7f3e387"
      },
      "execution_count": 12,
      "outputs": [
        {
          "output_type": "stream",
          "name": "stdout",
          "text": [
            "6162876.3\n"
          ]
        }
      ]
    },
    {
      "cell_type": "code",
      "source": [
        "## Population(인구수) 각 끝에서 10%를 제외한 절사평균\n",
        "print(trim_mean(state['Population'], 0.1))"
      ],
      "metadata": {
        "colab": {
          "base_uri": "https://localhost:8080/"
        },
        "id": "_4LtW4wbe6rq",
        "outputId": "8955f879-9c45-4faa-d2c3-1b54d188dd7f"
      },
      "execution_count": 13,
      "outputs": [
        {
          "output_type": "stream",
          "name": "stdout",
          "text": [
            "4783697.125\n"
          ]
        }
      ]
    },
    {
      "cell_type": "code",
      "source": [
        "## Population(인구수) 중위수\n",
        "print(state['Population'].median())"
      ],
      "metadata": {
        "colab": {
          "base_uri": "https://localhost:8080/"
        },
        "id": "A5aGd3CTfKbB",
        "outputId": "b4731290-7411-46a0-af81-34ba8603de20"
      },
      "execution_count": 11,
      "outputs": [
        {
          "output_type": "stream",
          "name": "stdout",
          "text": [
            "4436369.5\n"
          ]
        }
      ]
    },
    {
      "cell_type": "code",
      "source": [
        "## Murder.Rate(살인 비율) 평균\n",
        "print(state['Murder.Rate'].mean())"
      ],
      "metadata": {
        "colab": {
          "base_uri": "https://localhost:8080/"
        },
        "id": "YOXgi4VTfrSZ",
        "outputId": "a2ebe22b-9928-462c-ba73-0430c1af4089"
      },
      "execution_count": 15,
      "outputs": [
        {
          "output_type": "stream",
          "name": "stdout",
          "text": [
            "4.066\n"
          ]
        }
      ]
    },
    {
      "cell_type": "code",
      "source": [
        "## Murder.Rate(살인 비율) 과 Population(인구수) 가중평균\n",
        "print(np.average(state['Murder.Rate'], weights = state['Population']))"
      ],
      "metadata": {
        "colab": {
          "base_uri": "https://localhost:8080/"
        },
        "id": "RjJFjsGwf3Pa",
        "outputId": "95fc5a16-1def-490b-f226-7eab427edcad"
      },
      "execution_count": 18,
      "outputs": [
        {
          "output_type": "stream",
          "name": "stdout",
          "text": [
            "4.445833981123393\n"
          ]
        }
      ]
    },
    {
      "cell_type": "code",
      "source": [
        "## Murder.Rate(살인 비율) 과 Population(인구수) 가중중위수\n",
        "print(wquantiles.median(state['Murder.Rate'], weights = state['Population']))"
      ],
      "metadata": {
        "colab": {
          "base_uri": "https://localhost:8080/"
        },
        "id": "Vi1CVQ7dgj8F",
        "outputId": "292659a3-82f2-43b2-b069-e9c77a87afe5"
      },
      "execution_count": 22,
      "outputs": [
        {
          "output_type": "stream",
          "name": "stdout",
          "text": [
            "4.4\n"
          ]
        }
      ]
    },
    {
      "cell_type": "markdown",
      "source": [
        "### **Chapter01.04 변이 추정 (34p)**\n",
        "\n"
      ],
      "metadata": {
        "id": "_vNEKu0lKIjd"
      }
    },
    {
      "cell_type": "markdown",
      "source": [
        "* **변이 (Variability)**\n",
        "  * 데이터 값이 얼마나 밀집해 있는지 혹은 퍼져 있는지를 나타내는 산포도를 나타냄"
      ],
      "metadata": {
        "id": "i-1SV-N8kByV"
      }
    },
    {
      "cell_type": "markdown",
      "source": [
        "* **산포도 (Dispersion, Scatter)**\n",
        "  * **편차 (Deviation)** ➜ 관측값과 위치 추정값 사이의 차이 (유의어 : 오차, 잔차)\n",
        "  * **분산 (Variance)** ➜ 평균과의 편차를 제곱한 값들의 합을 $n-1$로 나눈 값 (유의어 : 평균제곱오차)\n",
        "  * **표준편차 (Standard Deviation)** ➜ 분산의 제곱근\n",
        "  * **평균절대편차 (Mean Absolute Deviation)** ➜ 평균과의 편차의 절댓값의 평균 (유의어 : 노름, 맨해튼 노름)\n",
        "  * **중위수의 중위절대편차 (MAD : Median Absolute Deviation)** ➜ 중간값과의 편차의 절댓값의 중간값\n",
        "  * **순서통계량 (Order Statistics)** ➜ 최소에서 최대까지 정렬된 데이터 값에 따른 통계량 (유의어 : 순위)\n",
        "  * **범위 (Range)** ➜ 데이터의 최댓값과 최솟값의 차이\n",
        "  * **백분위수 (Percentile)** ➜ 전체 데이터의 p%를 아래에 두는 값\n",
        "  * **IQR (Interquartile Range : 사분위범위)** ➜ $Q_3 - Q_1$"
      ],
      "metadata": {
        "id": "sXodkjYejih2"
      }
    },
    {
      "cell_type": "markdown",
      "source": [
        "* **편차 (Deviation)**\n",
        "  * 관측 데이터와 위치 추정값 사이의 차이\n",
        "  * 데이터가 ***중앙값을 주변으로 얼마나 퍼져 있는지*** 알 수 있음\n",
        "  * 편차들의 대푯값을 추정하는 것이 변이 측정 방법\n",
        "  * **평균절대편차** $= \\frac{1}{n} \\displaystyle\\sum_{i=1}^{n} |x_i - \\overline X|$"
      ],
      "metadata": {
        "id": "JSx8O9sFom2d"
      }
    },
    {
      "cell_type": "markdown",
      "source": [
        "* **분산 (Variance)**\n",
        "  * **모분산** ➜ $σ^2 = \\frac{1}{N} \\displaystyle\\sum_{i=1}^{N} (x_i - μ)^2$\n",
        "  * **표본분산** ➜ $s^2 = \\frac{1}{n-1} \\displaystyle\\sum_{i=1}^{n} (x_i - \\overline X)^2$"
      ],
      "metadata": {
        "id": "aLOZcjmPSiJp"
      }
    },
    {
      "cell_type": "markdown",
      "source": [
        "* **표준편차 (Standard Deviation)**\n",
        "  * **모표준편차** ➜ $σ = \\sqrt{\\frac{1}{N} \\displaystyle\\sum_{i=1}^{N} (x_i - μ)^2}$\n",
        "  * **표본표준편차** ➜ $s = \\sqrt{\\frac{1}{n-1} \\displaystyle\\sum_{i=1}^{n} (x_i - σ)^2}$\n",
        "  * 표준편차는 ***원래 데이터와 같은 척도(Scale)***에 있기 때문에 분산보다 훨씬 해석하기 쉬움  \n",
        "  * 수학적으로 제곱한 값이 절댓값보다 통계 모델을 다루는데 더 편리하다는 통계 이론 존재\n",
        "  * 분산과 표준편차는 제곱편차를 사용하기 때문에 특히 ***특잇값에 로버스트하지 않음***"
      ],
      "metadata": {
        "id": "iF26ZdKnPRUc"
      }
    },
    {
      "cell_type": "markdown",
      "source": [
        "* **범위 (Range)**\n",
        "  * ***순서통계량의 가장 기본이 되는 측도***로 가장 큰 값과 작은 값의 차이\n",
        "  * 최대, 최솟값 자체가 특잇값을 분석하는데 큰 도움을 줌\n",
        "  * ***특잇값에 매우 민감***하여 데이터의 변이를 측정하는데는 유용하지 않음"
      ],
      "metadata": {
        "id": "qwaQ9qd6flDm"
      }
    },
    {
      "cell_type": "markdown",
      "source": [
        "* **정리**\n",
        "  * 분산과 표준편차는 가장 보편적으로 널리 사용되는 변이 측정 방법\n",
        "  * 이들 모두 특잇값에 민감\n",
        "  * 평균절대편차와 중간값의 중위절대편차를 구하는 것이 좀 더 로버스트함"
      ],
      "metadata": {
        "id": "9wDV-9lMn01K"
      }
    },
    {
      "cell_type": "code",
      "source": [
        "### 01.04 예제) 주별 인구의 변이 추정\n",
        "state.head(8)"
      ],
      "metadata": {
        "colab": {
          "base_uri": "https://localhost:8080/",
          "height": 300
        },
        "id": "u9sNH8xRlSBC",
        "outputId": "6fc6c4c2-3e83-458e-8758-512b7630ed9f"
      },
      "execution_count": 30,
      "outputs": [
        {
          "output_type": "execute_result",
          "data": {
            "text/plain": [
              "         State  Population  Murder.Rate Abbreviation\n",
              "0      Alabama     4779736          5.7           AL\n",
              "1       Alaska      710231          5.6           AK\n",
              "2      Arizona     6392017          4.7           AZ\n",
              "3     Arkansas     2915918          5.6           AR\n",
              "4   California    37253956          4.4           CA\n",
              "5     Colorado     5029196          2.8           CO\n",
              "6  Connecticut     3574097          2.4           CT\n",
              "7     Delaware      897934          5.8           DE"
            ],
            "text/html": [
              "\n",
              "  <div id=\"df-223523ed-7e5f-492e-88ff-7b886a842262\" class=\"colab-df-container\">\n",
              "    <div>\n",
              "<style scoped>\n",
              "    .dataframe tbody tr th:only-of-type {\n",
              "        vertical-align: middle;\n",
              "    }\n",
              "\n",
              "    .dataframe tbody tr th {\n",
              "        vertical-align: top;\n",
              "    }\n",
              "\n",
              "    .dataframe thead th {\n",
              "        text-align: right;\n",
              "    }\n",
              "</style>\n",
              "<table border=\"1\" class=\"dataframe\">\n",
              "  <thead>\n",
              "    <tr style=\"text-align: right;\">\n",
              "      <th></th>\n",
              "      <th>State</th>\n",
              "      <th>Population</th>\n",
              "      <th>Murder.Rate</th>\n",
              "      <th>Abbreviation</th>\n",
              "    </tr>\n",
              "  </thead>\n",
              "  <tbody>\n",
              "    <tr>\n",
              "      <th>0</th>\n",
              "      <td>Alabama</td>\n",
              "      <td>4779736</td>\n",
              "      <td>5.7</td>\n",
              "      <td>AL</td>\n",
              "    </tr>\n",
              "    <tr>\n",
              "      <th>1</th>\n",
              "      <td>Alaska</td>\n",
              "      <td>710231</td>\n",
              "      <td>5.6</td>\n",
              "      <td>AK</td>\n",
              "    </tr>\n",
              "    <tr>\n",
              "      <th>2</th>\n",
              "      <td>Arizona</td>\n",
              "      <td>6392017</td>\n",
              "      <td>4.7</td>\n",
              "      <td>AZ</td>\n",
              "    </tr>\n",
              "    <tr>\n",
              "      <th>3</th>\n",
              "      <td>Arkansas</td>\n",
              "      <td>2915918</td>\n",
              "      <td>5.6</td>\n",
              "      <td>AR</td>\n",
              "    </tr>\n",
              "    <tr>\n",
              "      <th>4</th>\n",
              "      <td>California</td>\n",
              "      <td>37253956</td>\n",
              "      <td>4.4</td>\n",
              "      <td>CA</td>\n",
              "    </tr>\n",
              "    <tr>\n",
              "      <th>5</th>\n",
              "      <td>Colorado</td>\n",
              "      <td>5029196</td>\n",
              "      <td>2.8</td>\n",
              "      <td>CO</td>\n",
              "    </tr>\n",
              "    <tr>\n",
              "      <th>6</th>\n",
              "      <td>Connecticut</td>\n",
              "      <td>3574097</td>\n",
              "      <td>2.4</td>\n",
              "      <td>CT</td>\n",
              "    </tr>\n",
              "    <tr>\n",
              "      <th>7</th>\n",
              "      <td>Delaware</td>\n",
              "      <td>897934</td>\n",
              "      <td>5.8</td>\n",
              "      <td>DE</td>\n",
              "    </tr>\n",
              "  </tbody>\n",
              "</table>\n",
              "</div>\n",
              "    <div class=\"colab-df-buttons\">\n",
              "\n",
              "  <div class=\"colab-df-container\">\n",
              "    <button class=\"colab-df-convert\" onclick=\"convertToInteractive('df-223523ed-7e5f-492e-88ff-7b886a842262')\"\n",
              "            title=\"Convert this dataframe to an interactive table.\"\n",
              "            style=\"display:none;\">\n",
              "\n",
              "  <svg xmlns=\"http://www.w3.org/2000/svg\" height=\"24px\" viewBox=\"0 -960 960 960\">\n",
              "    <path d=\"M120-120v-720h720v720H120Zm60-500h600v-160H180v160Zm220 220h160v-160H400v160Zm0 220h160v-160H400v160ZM180-400h160v-160H180v160Zm440 0h160v-160H620v160ZM180-180h160v-160H180v160Zm440 0h160v-160H620v160Z\"/>\n",
              "  </svg>\n",
              "    </button>\n",
              "\n",
              "  <style>\n",
              "    .colab-df-container {\n",
              "      display:flex;\n",
              "      gap: 12px;\n",
              "    }\n",
              "\n",
              "    .colab-df-convert {\n",
              "      background-color: #E8F0FE;\n",
              "      border: none;\n",
              "      border-radius: 50%;\n",
              "      cursor: pointer;\n",
              "      display: none;\n",
              "      fill: #1967D2;\n",
              "      height: 32px;\n",
              "      padding: 0 0 0 0;\n",
              "      width: 32px;\n",
              "    }\n",
              "\n",
              "    .colab-df-convert:hover {\n",
              "      background-color: #E2EBFA;\n",
              "      box-shadow: 0px 1px 2px rgba(60, 64, 67, 0.3), 0px 1px 3px 1px rgba(60, 64, 67, 0.15);\n",
              "      fill: #174EA6;\n",
              "    }\n",
              "\n",
              "    .colab-df-buttons div {\n",
              "      margin-bottom: 4px;\n",
              "    }\n",
              "\n",
              "    [theme=dark] .colab-df-convert {\n",
              "      background-color: #3B4455;\n",
              "      fill: #D2E3FC;\n",
              "    }\n",
              "\n",
              "    [theme=dark] .colab-df-convert:hover {\n",
              "      background-color: #434B5C;\n",
              "      box-shadow: 0px 1px 3px 1px rgba(0, 0, 0, 0.15);\n",
              "      filter: drop-shadow(0px 1px 2px rgba(0, 0, 0, 0.3));\n",
              "      fill: #FFFFFF;\n",
              "    }\n",
              "  </style>\n",
              "\n",
              "    <script>\n",
              "      const buttonEl =\n",
              "        document.querySelector('#df-223523ed-7e5f-492e-88ff-7b886a842262 button.colab-df-convert');\n",
              "      buttonEl.style.display =\n",
              "        google.colab.kernel.accessAllowed ? 'block' : 'none';\n",
              "\n",
              "      async function convertToInteractive(key) {\n",
              "        const element = document.querySelector('#df-223523ed-7e5f-492e-88ff-7b886a842262');\n",
              "        const dataTable =\n",
              "          await google.colab.kernel.invokeFunction('convertToInteractive',\n",
              "                                                    [key], {});\n",
              "        if (!dataTable) return;\n",
              "\n",
              "        const docLinkHtml = 'Like what you see? Visit the ' +\n",
              "          '<a target=\"_blank\" href=https://colab.research.google.com/notebooks/data_table.ipynb>data table notebook</a>'\n",
              "          + ' to learn more about interactive tables.';\n",
              "        element.innerHTML = '';\n",
              "        dataTable['output_type'] = 'display_data';\n",
              "        await google.colab.output.renderOutput(dataTable, element);\n",
              "        const docLink = document.createElement('div');\n",
              "        docLink.innerHTML = docLinkHtml;\n",
              "        element.appendChild(docLink);\n",
              "      }\n",
              "    </script>\n",
              "  </div>\n",
              "\n",
              "\n",
              "<div id=\"df-c8664c81-8d5d-47b9-8ec1-edd1b56efc96\">\n",
              "  <button class=\"colab-df-quickchart\" onclick=\"quickchart('df-c8664c81-8d5d-47b9-8ec1-edd1b56efc96')\"\n",
              "            title=\"Suggest charts\"\n",
              "            style=\"display:none;\">\n",
              "\n",
              "<svg xmlns=\"http://www.w3.org/2000/svg\" height=\"24px\"viewBox=\"0 0 24 24\"\n",
              "     width=\"24px\">\n",
              "    <g>\n",
              "        <path d=\"M19 3H5c-1.1 0-2 .9-2 2v14c0 1.1.9 2 2 2h14c1.1 0 2-.9 2-2V5c0-1.1-.9-2-2-2zM9 17H7v-7h2v7zm4 0h-2V7h2v10zm4 0h-2v-4h2v4z\"/>\n",
              "    </g>\n",
              "</svg>\n",
              "  </button>\n",
              "\n",
              "<style>\n",
              "  .colab-df-quickchart {\n",
              "      --bg-color: #E8F0FE;\n",
              "      --fill-color: #1967D2;\n",
              "      --hover-bg-color: #E2EBFA;\n",
              "      --hover-fill-color: #174EA6;\n",
              "      --disabled-fill-color: #AAA;\n",
              "      --disabled-bg-color: #DDD;\n",
              "  }\n",
              "\n",
              "  [theme=dark] .colab-df-quickchart {\n",
              "      --bg-color: #3B4455;\n",
              "      --fill-color: #D2E3FC;\n",
              "      --hover-bg-color: #434B5C;\n",
              "      --hover-fill-color: #FFFFFF;\n",
              "      --disabled-bg-color: #3B4455;\n",
              "      --disabled-fill-color: #666;\n",
              "  }\n",
              "\n",
              "  .colab-df-quickchart {\n",
              "    background-color: var(--bg-color);\n",
              "    border: none;\n",
              "    border-radius: 50%;\n",
              "    cursor: pointer;\n",
              "    display: none;\n",
              "    fill: var(--fill-color);\n",
              "    height: 32px;\n",
              "    padding: 0;\n",
              "    width: 32px;\n",
              "  }\n",
              "\n",
              "  .colab-df-quickchart:hover {\n",
              "    background-color: var(--hover-bg-color);\n",
              "    box-shadow: 0 1px 2px rgba(60, 64, 67, 0.3), 0 1px 3px 1px rgba(60, 64, 67, 0.15);\n",
              "    fill: var(--button-hover-fill-color);\n",
              "  }\n",
              "\n",
              "  .colab-df-quickchart-complete:disabled,\n",
              "  .colab-df-quickchart-complete:disabled:hover {\n",
              "    background-color: var(--disabled-bg-color);\n",
              "    fill: var(--disabled-fill-color);\n",
              "    box-shadow: none;\n",
              "  }\n",
              "\n",
              "  .colab-df-spinner {\n",
              "    border: 2px solid var(--fill-color);\n",
              "    border-color: transparent;\n",
              "    border-bottom-color: var(--fill-color);\n",
              "    animation:\n",
              "      spin 1s steps(1) infinite;\n",
              "  }\n",
              "\n",
              "  @keyframes spin {\n",
              "    0% {\n",
              "      border-color: transparent;\n",
              "      border-bottom-color: var(--fill-color);\n",
              "      border-left-color: var(--fill-color);\n",
              "    }\n",
              "    20% {\n",
              "      border-color: transparent;\n",
              "      border-left-color: var(--fill-color);\n",
              "      border-top-color: var(--fill-color);\n",
              "    }\n",
              "    30% {\n",
              "      border-color: transparent;\n",
              "      border-left-color: var(--fill-color);\n",
              "      border-top-color: var(--fill-color);\n",
              "      border-right-color: var(--fill-color);\n",
              "    }\n",
              "    40% {\n",
              "      border-color: transparent;\n",
              "      border-right-color: var(--fill-color);\n",
              "      border-top-color: var(--fill-color);\n",
              "    }\n",
              "    60% {\n",
              "      border-color: transparent;\n",
              "      border-right-color: var(--fill-color);\n",
              "    }\n",
              "    80% {\n",
              "      border-color: transparent;\n",
              "      border-right-color: var(--fill-color);\n",
              "      border-bottom-color: var(--fill-color);\n",
              "    }\n",
              "    90% {\n",
              "      border-color: transparent;\n",
              "      border-bottom-color: var(--fill-color);\n",
              "    }\n",
              "  }\n",
              "</style>\n",
              "\n",
              "  <script>\n",
              "    async function quickchart(key) {\n",
              "      const quickchartButtonEl =\n",
              "        document.querySelector('#' + key + ' button');\n",
              "      quickchartButtonEl.disabled = true;  // To prevent multiple clicks.\n",
              "      quickchartButtonEl.classList.add('colab-df-spinner');\n",
              "      try {\n",
              "        const charts = await google.colab.kernel.invokeFunction(\n",
              "            'suggestCharts', [key], {});\n",
              "      } catch (error) {\n",
              "        console.error('Error during call to suggestCharts:', error);\n",
              "      }\n",
              "      quickchartButtonEl.classList.remove('colab-df-spinner');\n",
              "      quickchartButtonEl.classList.add('colab-df-quickchart-complete');\n",
              "    }\n",
              "    (() => {\n",
              "      let quickchartButtonEl =\n",
              "        document.querySelector('#df-c8664c81-8d5d-47b9-8ec1-edd1b56efc96 button');\n",
              "      quickchartButtonEl.style.display =\n",
              "        google.colab.kernel.accessAllowed ? 'block' : 'none';\n",
              "    })();\n",
              "  </script>\n",
              "</div>\n",
              "\n",
              "    </div>\n",
              "  </div>\n"
            ],
            "application/vnd.google.colaboratory.intrinsic+json": {
              "type": "dataframe",
              "variable_name": "state",
              "summary": "{\n  \"name\": \"state\",\n  \"rows\": 50,\n  \"fields\": [\n    {\n      \"column\": \"State\",\n      \"properties\": {\n        \"dtype\": \"string\",\n        \"num_unique_values\": 50,\n        \"samples\": [\n          \"Indiana\",\n          \"South Carolina\",\n          \"New Mexico\"\n        ],\n        \"semantic_type\": \"\",\n        \"description\": \"\"\n      }\n    },\n    {\n      \"column\": \"Population\",\n      \"properties\": {\n        \"dtype\": \"number\",\n        \"std\": 6848235,\n        \"min\": 563626,\n        \"max\": 37253956,\n        \"num_unique_values\": 50,\n        \"samples\": [\n          6483802,\n          4625364,\n          2059179\n        ],\n        \"semantic_type\": \"\",\n        \"description\": \"\"\n      }\n    },\n    {\n      \"column\": \"Murder.Rate\",\n      \"properties\": {\n        \"dtype\": \"number\",\n        \"std\": 1.9157361243029227,\n        \"min\": 0.9,\n        \"max\": 10.3,\n        \"num_unique_values\": 34,\n        \"samples\": [\n          1.6,\n          6.6,\n          4.0\n        ],\n        \"semantic_type\": \"\",\n        \"description\": \"\"\n      }\n    },\n    {\n      \"column\": \"Abbreviation\",\n      \"properties\": {\n        \"dtype\": \"string\",\n        \"num_unique_values\": 50,\n        \"samples\": [\n          \"IN\",\n          \"SC\",\n          \"NM\"\n        ],\n        \"semantic_type\": \"\",\n        \"description\": \"\"\n      }\n    }\n  ]\n}"
            }
          },
          "metadata": {},
          "execution_count": 30
        }
      ]
    },
    {
      "cell_type": "code",
      "source": [
        "## Population(인구수) 표준편차\n",
        "print(state['Population'].std())"
      ],
      "metadata": {
        "colab": {
          "base_uri": "https://localhost:8080/"
        },
        "id": "pZuoCRi5KOZE",
        "outputId": "bbae6b2e-0354-489a-f7b3-d60d300b09e0"
      },
      "execution_count": 29,
      "outputs": [
        {
          "output_type": "stream",
          "name": "stdout",
          "text": [
            "6848235.347401142\n"
          ]
        }
      ]
    },
    {
      "cell_type": "code",
      "source": [
        "## Population(인구수) IQR (사분위범위)\n",
        "state['Population'].quantile(0.75) - state['Population'].quantile(0.25)"
      ],
      "metadata": {
        "colab": {
          "base_uri": "https://localhost:8080/"
        },
        "id": "zI-HoKpUkwdQ",
        "outputId": "f5226820-ec80-4a18-90e8-df80bb25e337"
      },
      "execution_count": 28,
      "outputs": [
        {
          "output_type": "execute_result",
          "data": {
            "text/plain": [
              "4847308.0"
            ]
          },
          "metadata": {},
          "execution_count": 28
        }
      ]
    },
    {
      "cell_type": "code",
      "source": [
        "## Population(인구수) MAD (중위절대편차)\n",
        "print(robust.scale.mad(state['Population']))\n",
        "print(abs(state['Population'] - state['Population'].median()).median() / 0.6744897501960817)"
      ],
      "metadata": {
        "colab": {
          "base_uri": "https://localhost:8080/"
        },
        "id": "Qgg6Dr_NlFVX",
        "outputId": "4b97c2e7-97a7-4911-d323-13362a178ef5"
      },
      "execution_count": 34,
      "outputs": [
        {
          "output_type": "stream",
          "name": "stdout",
          "text": [
            "3849876.1459979336\n",
            "3849876.1459979336\n"
          ]
        }
      ]
    },
    {
      "cell_type": "markdown",
      "source": [
        "### **Chapter01.05 데이터 분포 탐색하기 (39p)**"
      ],
      "metadata": {
        "id": "xH8C9Fi2KPDC"
      }
    },
    {
      "cell_type": "markdown",
      "source": [
        "* **상자그림 (Boxplot)**"
      ],
      "metadata": {
        "id": "SgDkX4V5zBda"
      }
    },
    {
      "cell_type": "code",
      "source": [
        "## 주별 살인율의 백분위수\n",
        "state['Murder.Rate'].quantile([0.05, 0.25, 0.5, 0.75, 0.95])"
      ],
      "metadata": {
        "colab": {
          "base_uri": "https://localhost:8080/"
        },
        "id": "YqcwZk0RKXYt",
        "outputId": "af394fc8-dd5a-4a04-ccdc-9ae751df2239"
      },
      "execution_count": 35,
      "outputs": [
        {
          "output_type": "execute_result",
          "data": {
            "text/plain": [
              "0.05    1.600\n",
              "0.25    2.425\n",
              "0.50    4.000\n",
              "0.75    5.550\n",
              "0.95    6.510\n",
              "Name: Murder.Rate, dtype: float64"
            ]
          },
          "metadata": {},
          "execution_count": 35
        }
      ]
    },
    {
      "cell_type": "code",
      "source": [
        "percentages = [0.05, 0.25, 0.5, 0.75, 0.95]\n",
        "df = pd.DataFrame(state['Murder.Rate'].quantile(percentages))\n",
        "df.index = [f'{p * 100}%' for p in percentages]\n",
        "df.transpose()"
      ],
      "metadata": {
        "colab": {
          "base_uri": "https://localhost:8080/",
          "height": 81
        },
        "id": "s-uiI8scsaMO",
        "outputId": "3a2d8e3f-f96b-496a-c1c7-c7610f1480e2"
      },
      "execution_count": 38,
      "outputs": [
        {
          "output_type": "execute_result",
          "data": {
            "text/plain": [
              "             5.0%  25.0%  50.0%  75.0%  95.0%\n",
              "Murder.Rate   1.6  2.425    4.0   5.55   6.51"
            ],
            "text/html": [
              "\n",
              "  <div id=\"df-9939c58a-b32f-4744-a941-71b294315041\" class=\"colab-df-container\">\n",
              "    <div>\n",
              "<style scoped>\n",
              "    .dataframe tbody tr th:only-of-type {\n",
              "        vertical-align: middle;\n",
              "    }\n",
              "\n",
              "    .dataframe tbody tr th {\n",
              "        vertical-align: top;\n",
              "    }\n",
              "\n",
              "    .dataframe thead th {\n",
              "        text-align: right;\n",
              "    }\n",
              "</style>\n",
              "<table border=\"1\" class=\"dataframe\">\n",
              "  <thead>\n",
              "    <tr style=\"text-align: right;\">\n",
              "      <th></th>\n",
              "      <th>5.0%</th>\n",
              "      <th>25.0%</th>\n",
              "      <th>50.0%</th>\n",
              "      <th>75.0%</th>\n",
              "      <th>95.0%</th>\n",
              "    </tr>\n",
              "  </thead>\n",
              "  <tbody>\n",
              "    <tr>\n",
              "      <th>Murder.Rate</th>\n",
              "      <td>1.6</td>\n",
              "      <td>2.425</td>\n",
              "      <td>4.0</td>\n",
              "      <td>5.55</td>\n",
              "      <td>6.51</td>\n",
              "    </tr>\n",
              "  </tbody>\n",
              "</table>\n",
              "</div>\n",
              "    <div class=\"colab-df-buttons\">\n",
              "\n",
              "  <div class=\"colab-df-container\">\n",
              "    <button class=\"colab-df-convert\" onclick=\"convertToInteractive('df-9939c58a-b32f-4744-a941-71b294315041')\"\n",
              "            title=\"Convert this dataframe to an interactive table.\"\n",
              "            style=\"display:none;\">\n",
              "\n",
              "  <svg xmlns=\"http://www.w3.org/2000/svg\" height=\"24px\" viewBox=\"0 -960 960 960\">\n",
              "    <path d=\"M120-120v-720h720v720H120Zm60-500h600v-160H180v160Zm220 220h160v-160H400v160Zm0 220h160v-160H400v160ZM180-400h160v-160H180v160Zm440 0h160v-160H620v160ZM180-180h160v-160H180v160Zm440 0h160v-160H620v160Z\"/>\n",
              "  </svg>\n",
              "    </button>\n",
              "\n",
              "  <style>\n",
              "    .colab-df-container {\n",
              "      display:flex;\n",
              "      gap: 12px;\n",
              "    }\n",
              "\n",
              "    .colab-df-convert {\n",
              "      background-color: #E8F0FE;\n",
              "      border: none;\n",
              "      border-radius: 50%;\n",
              "      cursor: pointer;\n",
              "      display: none;\n",
              "      fill: #1967D2;\n",
              "      height: 32px;\n",
              "      padding: 0 0 0 0;\n",
              "      width: 32px;\n",
              "    }\n",
              "\n",
              "    .colab-df-convert:hover {\n",
              "      background-color: #E2EBFA;\n",
              "      box-shadow: 0px 1px 2px rgba(60, 64, 67, 0.3), 0px 1px 3px 1px rgba(60, 64, 67, 0.15);\n",
              "      fill: #174EA6;\n",
              "    }\n",
              "\n",
              "    .colab-df-buttons div {\n",
              "      margin-bottom: 4px;\n",
              "    }\n",
              "\n",
              "    [theme=dark] .colab-df-convert {\n",
              "      background-color: #3B4455;\n",
              "      fill: #D2E3FC;\n",
              "    }\n",
              "\n",
              "    [theme=dark] .colab-df-convert:hover {\n",
              "      background-color: #434B5C;\n",
              "      box-shadow: 0px 1px 3px 1px rgba(0, 0, 0, 0.15);\n",
              "      filter: drop-shadow(0px 1px 2px rgba(0, 0, 0, 0.3));\n",
              "      fill: #FFFFFF;\n",
              "    }\n",
              "  </style>\n",
              "\n",
              "    <script>\n",
              "      const buttonEl =\n",
              "        document.querySelector('#df-9939c58a-b32f-4744-a941-71b294315041 button.colab-df-convert');\n",
              "      buttonEl.style.display =\n",
              "        google.colab.kernel.accessAllowed ? 'block' : 'none';\n",
              "\n",
              "      async function convertToInteractive(key) {\n",
              "        const element = document.querySelector('#df-9939c58a-b32f-4744-a941-71b294315041');\n",
              "        const dataTable =\n",
              "          await google.colab.kernel.invokeFunction('convertToInteractive',\n",
              "                                                    [key], {});\n",
              "        if (!dataTable) return;\n",
              "\n",
              "        const docLinkHtml = 'Like what you see? Visit the ' +\n",
              "          '<a target=\"_blank\" href=https://colab.research.google.com/notebooks/data_table.ipynb>data table notebook</a>'\n",
              "          + ' to learn more about interactive tables.';\n",
              "        element.innerHTML = '';\n",
              "        dataTable['output_type'] = 'display_data';\n",
              "        await google.colab.output.renderOutput(dataTable, element);\n",
              "        const docLink = document.createElement('div');\n",
              "        docLink.innerHTML = docLinkHtml;\n",
              "        element.appendChild(docLink);\n",
              "      }\n",
              "    </script>\n",
              "  </div>\n",
              "\n",
              "\n",
              "    </div>\n",
              "  </div>\n"
            ],
            "application/vnd.google.colaboratory.intrinsic+json": {
              "type": "dataframe",
              "summary": "{\n  \"name\": \"df\",\n  \"rows\": 1,\n  \"fields\": [\n    {\n      \"column\": \"5.0%\",\n      \"properties\": {\n        \"dtype\": \"number\",\n        \"std\": null,\n        \"min\": 1.6,\n        \"max\": 1.6,\n        \"num_unique_values\": 1,\n        \"samples\": [\n          1.6\n        ],\n        \"semantic_type\": \"\",\n        \"description\": \"\"\n      }\n    },\n    {\n      \"column\": \"25.0%\",\n      \"properties\": {\n        \"dtype\": \"number\",\n        \"std\": null,\n        \"min\": 2.425,\n        \"max\": 2.425,\n        \"num_unique_values\": 1,\n        \"samples\": [\n          2.425\n        ],\n        \"semantic_type\": \"\",\n        \"description\": \"\"\n      }\n    },\n    {\n      \"column\": \"50.0%\",\n      \"properties\": {\n        \"dtype\": \"number\",\n        \"std\": null,\n        \"min\": 4.0,\n        \"max\": 4.0,\n        \"num_unique_values\": 1,\n        \"samples\": [\n          4.0\n        ],\n        \"semantic_type\": \"\",\n        \"description\": \"\"\n      }\n    },\n    {\n      \"column\": \"75.0%\",\n      \"properties\": {\n        \"dtype\": \"number\",\n        \"std\": null,\n        \"min\": 5.55,\n        \"max\": 5.55,\n        \"num_unique_values\": 1,\n        \"samples\": [\n          5.55\n        ],\n        \"semantic_type\": \"\",\n        \"description\": \"\"\n      }\n    },\n    {\n      \"column\": \"95.0%\",\n      \"properties\": {\n        \"dtype\": \"number\",\n        \"std\": null,\n        \"min\": 6.51,\n        \"max\": 6.51,\n        \"num_unique_values\": 1,\n        \"samples\": [\n          6.51\n        ],\n        \"semantic_type\": \"\",\n        \"description\": \"\"\n      }\n    }\n  ]\n}"
            }
          },
          "metadata": {},
          "execution_count": 38
        }
      ]
    },
    {
      "cell_type": "code",
      "source": [
        "## 주별 인구 분포 나타내는 상자그림(boxplot)\n",
        "ax = (state['Population'] / 1000000).plot.box(figsize = (3, 4))\n",
        "ax.set_ylabel('Population (millions)')\n",
        "\n",
        "plt.tight_layout()\n",
        "plt.show()"
      ],
      "metadata": {
        "colab": {
          "base_uri": "https://localhost:8080/",
          "height": 407
        },
        "id": "RDUiOl3Qqz1W",
        "outputId": "57039316-edd9-4e71-e72f-91b8d3d9b8d8"
      },
      "execution_count": 36,
      "outputs": [
        {
          "output_type": "display_data",
          "data": {
            "text/plain": [
              "<Figure size 300x400 with 1 Axes>"
            ],
            "image/png": "[encoded data removed]"
          },
          "metadata": {}
        }
      ]
    },
    {
      "cell_type": "markdown",
      "source": [
        "* **도수분포표**\n",
        "  * ***변수의 범위를 동일한 크기의 구간으로 나눈*** 다음, 각 구간마다 몇 개의 변숫값이 존재하는지를 보여주기 위해 사용"
      ],
      "metadata": {
        "id": "oVg2NkZzt3OX"
      }
    },
    {
      "cell_type": "code",
      "source": [
        "## 주별 인구의 도수분포표 (빈도 테이블 구하기)\n",
        "binnedPopulation = pd.cut(state['Population'], 10)\n",
        "binnedPopulation.value_counts()"
      ],
      "metadata": {
        "colab": {
          "base_uri": "https://localhost:8080/"
        },
        "id": "EpGBeZBVt022",
        "outputId": "cf84b42f-a6e8-45bb-98b5-cd908d207c6a"
      },
      "execution_count": 37,
      "outputs": [
        {
          "output_type": "execute_result",
          "data": {
            "text/plain": [
              "Population\n",
              "(526935.67, 4232659.0]      24\n",
              "(4232659.0, 7901692.0]      14\n",
              "(7901692.0, 11570725.0]      6\n",
              "(11570725.0, 15239758.0]     2\n",
              "(15239758.0, 18908791.0]     1\n",
              "(18908791.0, 22577824.0]     1\n",
              "(22577824.0, 26246857.0]     1\n",
              "(33584923.0, 37253956.0]     1\n",
              "(26246857.0, 29915890.0]     0\n",
              "(29915890.0, 33584923.0]     0\n",
              "Name: count, dtype: int64"
            ]
          },
          "metadata": {},
          "execution_count": 37
        }
      ]
    },
    {
      "cell_type": "code",
      "source": [
        "binnedPopulation.name = 'binnedPopulation'\n",
        "df = pd.concat([state, binnedPopulation], axis = 1)\n",
        "df = df.sort_values(by = 'Population')\n",
        "\n",
        "groups = []\n",
        "for group, subset in df.groupby(by = 'binnedPopulation') :\n",
        "  groups.append({'BinRange' : group,\n",
        "                 'Count' : len(subset),\n",
        "                 'States' : ','.join(subset.Abbreviation)})\n",
        "\n",
        "pd.DataFrame(groups)"
      ],
      "metadata": {
        "colab": {
          "base_uri": "https://localhost:8080/",
          "height": 363
        },
        "id": "ytuD4F7luyUo",
        "outputId": "1391b876-17ed-48c4-8f94-281a1cec66fe"
      },
      "execution_count": 39,
      "outputs": [
        {
          "output_type": "execute_result",
          "data": {
            "text/plain": [
              "                   BinRange  Count  \\\n",
              "0    (526935.67, 4232659.0]     24   \n",
              "1    (4232659.0, 7901692.0]     14   \n",
              "2   (7901692.0, 11570725.0]      6   \n",
              "3  (11570725.0, 15239758.0]      2   \n",
              "4  (15239758.0, 18908791.0]      1   \n",
              "5  (18908791.0, 22577824.0]      1   \n",
              "6  (22577824.0, 26246857.0]      1   \n",
              "7  (26246857.0, 29915890.0]      0   \n",
              "8  (29915890.0, 33584923.0]      0   \n",
              "9  (33584923.0, 37253956.0]      1   \n",
              "\n",
              "                                              States  \n",
              "0  WY,VT,ND,AK,SD,DE,MT,RI,NH,ME,HI,ID,NE,WV,NM,N...  \n",
              "1          KY,LA,SC,AL,CO,MN,WI,MD,MO,TN,AZ,IN,MA,WA  \n",
              "2                                  VA,NJ,NC,GA,MI,OH  \n",
              "3                                              PA,IL  \n",
              "4                                                 FL  \n",
              "5                                                 NY  \n",
              "6                                                 TX  \n",
              "7                                                     \n",
              "8                                                     \n",
              "9                                                 CA  "
            ],
            "text/html": [
              "\n",
              "  <div id=\"df-3f1bbd3f-70b8-4a23-b44c-4b8dfd0babd3\" class=\"colab-df-container\">\n",
              "    <div>\n",
              "<style scoped>\n",
              "    .dataframe tbody tr th:only-of-type {\n",
              "        vertical-align: middle;\n",
              "    }\n",
              "\n",
              "    .dataframe tbody tr th {\n",
              "        vertical-align: top;\n",
              "    }\n",
              "\n",
              "    .dataframe thead th {\n",
              "        text-align: right;\n",
              "    }\n",
              "</style>\n",
              "<table border=\"1\" class=\"dataframe\">\n",
              "  <thead>\n",
              "    <tr style=\"text-align: right;\">\n",
              "      <th></th>\n",
              "      <th>BinRange</th>\n",
              "      <th>Count</th>\n",
              "      <th>States</th>\n",
              "    </tr>\n",
              "  </thead>\n",
              "  <tbody>\n",
              "    <tr>\n",
              "      <th>0</th>\n",
              "      <td>(526935.67, 4232659.0]</td>\n",
              "      <td>24</td>\n",
              "      <td>WY,VT,ND,AK,SD,DE,MT,RI,NH,ME,HI,ID,NE,WV,NM,N...</td>\n",
              "    </tr>\n",
              "    <tr>\n",
              "      <th>1</th>\n",
              "      <td>(4232659.0, 7901692.0]</td>\n",
              "      <td>14</td>\n",
              "      <td>KY,LA,SC,AL,CO,MN,WI,MD,MO,TN,AZ,IN,MA,WA</td>\n",
              "    </tr>\n",
              "    <tr>\n",
              "      <th>2</th>\n",
              "      <td>(7901692.0, 11570725.0]</td>\n",
              "      <td>6</td>\n",
              "      <td>VA,NJ,NC,GA,MI,OH</td>\n",
              "    </tr>\n",
              "    <tr>\n",
              "      <th>3</th>\n",
              "      <td>(11570725.0, 15239758.0]</td>\n",
              "      <td>2</td>\n",
              "      <td>PA,IL</td>\n",
              "    </tr>\n",
              "    <tr>\n",
              "      <th>4</th>\n",
              "      <td>(15239758.0, 18908791.0]</td>\n",
              "      <td>1</td>\n",
              "      <td>FL</td>\n",
              "    </tr>\n",
              "    <tr>\n",
              "      <th>5</th>\n",
              "      <td>(18908791.0, 22577824.0]</td>\n",
              "      <td>1</td>\n",
              "      <td>NY</td>\n",
              "    </tr>\n",
              "    <tr>\n",
              "      <th>6</th>\n",
              "      <td>(22577824.0, 26246857.0]</td>\n",
              "      <td>1</td>\n",
              "      <td>TX</td>\n",
              "    </tr>\n",
              "    <tr>\n",
              "      <th>7</th>\n",
              "      <td>(26246857.0, 29915890.0]</td>\n",
              "      <td>0</td>\n",
              "      <td></td>\n",
              "    </tr>\n",
              "    <tr>\n",
              "      <th>8</th>\n",
              "      <td>(29915890.0, 33584923.0]</td>\n",
              "      <td>0</td>\n",
              "      <td></td>\n",
              "    </tr>\n",
              "    <tr>\n",
              "      <th>9</th>\n",
              "      <td>(33584923.0, 37253956.0]</td>\n",
              "      <td>1</td>\n",
              "      <td>CA</td>\n",
              "    </tr>\n",
              "  </tbody>\n",
              "</table>\n",
              "</div>\n",
              "    <div class=\"colab-df-buttons\">\n",
              "\n",
              "  <div class=\"colab-df-container\">\n",
              "    <button class=\"colab-df-convert\" onclick=\"convertToInteractive('df-3f1bbd3f-70b8-4a23-b44c-4b8dfd0babd3')\"\n",
              "            title=\"Convert this dataframe to an interactive table.\"\n",
              "            style=\"display:none;\">\n",
              "\n",
              "  <svg xmlns=\"http://www.w3.org/2000/svg\" height=\"24px\" viewBox=\"0 -960 960 960\">\n",
              "    <path d=\"M120-120v-720h720v720H120Zm60-500h600v-160H180v160Zm220 220h160v-160H400v160Zm0 220h160v-160H400v160ZM180-400h160v-160H180v160Zm440 0h160v-160H620v160ZM180-180h160v-160H180v160Zm440 0h160v-160H620v160Z\"/>\n",
              "  </svg>\n",
              "    </button>\n",
              "\n",
              "  <style>\n",
              "    .colab-df-container {\n",
              "      display:flex;\n",
              "      gap: 12px;\n",
              "    }\n",
              "\n",
              "    .colab-df-convert {\n",
              "      background-color: #E8F0FE;\n",
              "      border: none;\n",
              "      border-radius: 50%;\n",
              "      cursor: pointer;\n",
              "      display: none;\n",
              "      fill: #1967D2;\n",
              "      height: 32px;\n",
              "      padding: 0 0 0 0;\n",
              "      width: 32px;\n",
              "    }\n",
              "\n",
              "    .colab-df-convert:hover {\n",
              "      background-color: #E2EBFA;\n",
              "      box-shadow: 0px 1px 2px rgba(60, 64, 67, 0.3), 0px 1px 3px 1px rgba(60, 64, 67, 0.15);\n",
              "      fill: #174EA6;\n",
              "    }\n",
              "\n",
              "    .colab-df-buttons div {\n",
              "      margin-bottom: 4px;\n",
              "    }\n",
              "\n",
              "    [theme=dark] .colab-df-convert {\n",
              "      background-color: #3B4455;\n",
              "      fill: #D2E3FC;\n",
              "    }\n",
              "\n",
              "    [theme=dark] .colab-df-convert:hover {\n",
              "      background-color: #434B5C;\n",
              "      box-shadow: 0px 1px 3px 1px rgba(0, 0, 0, 0.15);\n",
              "      filter: drop-shadow(0px 1px 2px rgba(0, 0, 0, 0.3));\n",
              "      fill: #FFFFFF;\n",
              "    }\n",
              "  </style>\n",
              "\n",
              "    <script>\n",
              "      const buttonEl =\n",
              "        document.querySelector('#df-3f1bbd3f-70b8-4a23-b44c-4b8dfd0babd3 button.colab-df-convert');\n",
              "      buttonEl.style.display =\n",
              "        google.colab.kernel.accessAllowed ? 'block' : 'none';\n",
              "\n",
              "      async function convertToInteractive(key) {\n",
              "        const element = document.querySelector('#df-3f1bbd3f-70b8-4a23-b44c-4b8dfd0babd3');\n",
              "        const dataTable =\n",
              "          await google.colab.kernel.invokeFunction('convertToInteractive',\n",
              "                                                    [key], {});\n",
              "        if (!dataTable) return;\n",
              "\n",
              "        const docLinkHtml = 'Like what you see? Visit the ' +\n",
              "          '<a target=\"_blank\" href=https://colab.research.google.com/notebooks/data_table.ipynb>data table notebook</a>'\n",
              "          + ' to learn more about interactive tables.';\n",
              "        element.innerHTML = '';\n",
              "        dataTable['output_type'] = 'display_data';\n",
              "        await google.colab.output.renderOutput(dataTable, element);\n",
              "        const docLink = document.createElement('div');\n",
              "        docLink.innerHTML = docLinkHtml;\n",
              "        element.appendChild(docLink);\n",
              "      }\n",
              "    </script>\n",
              "  </div>\n",
              "\n",
              "\n",
              "<div id=\"df-e2213fde-d859-4747-b074-16cdb938e5c0\">\n",
              "  <button class=\"colab-df-quickchart\" onclick=\"quickchart('df-e2213fde-d859-4747-b074-16cdb938e5c0')\"\n",
              "            title=\"Suggest charts\"\n",
              "            style=\"display:none;\">\n",
              "\n",
              "<svg xmlns=\"http://www.w3.org/2000/svg\" height=\"24px\"viewBox=\"0 0 24 24\"\n",
              "     width=\"24px\">\n",
              "    <g>\n",
              "        <path d=\"M19 3H5c-1.1 0-2 .9-2 2v14c0 1.1.9 2 2 2h14c1.1 0 2-.9 2-2V5c0-1.1-.9-2-2-2zM9 17H7v-7h2v7zm4 0h-2V7h2v10zm4 0h-2v-4h2v4z\"/>\n",
              "    </g>\n",
              "</svg>\n",
              "  </button>\n",
              "\n",
              "<style>\n",
              "  .colab-df-quickchart {\n",
              "      --bg-color: #E8F0FE;\n",
              "      --fill-color: #1967D2;\n",
              "      --hover-bg-color: #E2EBFA;\n",
              "      --hover-fill-color: #174EA6;\n",
              "      --disabled-fill-color: #AAA;\n",
              "      --disabled-bg-color: #DDD;\n",
              "  }\n",
              "\n",
              "  [theme=dark] .colab-df-quickchart {\n",
              "      --bg-color: #3B4455;\n",
              "      --fill-color: #D2E3FC;\n",
              "      --hover-bg-color: #434B5C;\n",
              "      --hover-fill-color: #FFFFFF;\n",
              "      --disabled-bg-color: #3B4455;\n",
              "      --disabled-fill-color: #666;\n",
              "  }\n",
              "\n",
              "  .colab-df-quickchart {\n",
              "    background-color: var(--bg-color);\n",
              "    border: none;\n",
              "    border-radius: 50%;\n",
              "    cursor: pointer;\n",
              "    display: none;\n",
              "    fill: var(--fill-color);\n",
              "    height: 32px;\n",
              "    padding: 0;\n",
              "    width: 32px;\n",
              "  }\n",
              "\n",
              "  .colab-df-quickchart:hover {\n",
              "    background-color: var(--hover-bg-color);\n",
              "    box-shadow: 0 1px 2px rgba(60, 64, 67, 0.3), 0 1px 3px 1px rgba(60, 64, 67, 0.15);\n",
              "    fill: var(--button-hover-fill-color);\n",
              "  }\n",
              "\n",
              "  .colab-df-quickchart-complete:disabled,\n",
              "  .colab-df-quickchart-complete:disabled:hover {\n",
              "    background-color: var(--disabled-bg-color);\n",
              "    fill: var(--disabled-fill-color);\n",
              "    box-shadow: none;\n",
              "  }\n",
              "\n",
              "  .colab-df-spinner {\n",
              "    border: 2px solid var(--fill-color);\n",
              "    border-color: transparent;\n",
              "    border-bottom-color: var(--fill-color);\n",
              "    animation:\n",
              "      spin 1s steps(1) infinite;\n",
              "  }\n",
              "\n",
              "  @keyframes spin {\n",
              "    0% {\n",
              "      border-color: transparent;\n",
              "      border-bottom-color: var(--fill-color);\n",
              "      border-left-color: var(--fill-color);\n",
              "    }\n",
              "    20% {\n",
              "      border-color: transparent;\n",
              "      border-left-color: var(--fill-color);\n",
              "      border-top-color: var(--fill-color);\n",
              "    }\n",
              "    30% {\n",
              "      border-color: transparent;\n",
              "      border-left-color: var(--fill-color);\n",
              "      border-top-color: var(--fill-color);\n",
              "      border-right-color: var(--fill-color);\n",
              "    }\n",
              "    40% {\n",
              "      border-color: transparent;\n",
              "      border-right-color: var(--fill-color);\n",
              "      border-top-color: var(--fill-color);\n",
              "    }\n",
              "    60% {\n",
              "      border-color: transparent;\n",
              "      border-right-color: var(--fill-color);\n",
              "    }\n",
              "    80% {\n",
              "      border-color: transparent;\n",
              "      border-right-color: var(--fill-color);\n",
              "      border-bottom-color: var(--fill-color);\n",
              "    }\n",
              "    90% {\n",
              "      border-color: transparent;\n",
              "      border-bottom-color: var(--fill-color);\n",
              "    }\n",
              "  }\n",
              "</style>\n",
              "\n",
              "  <script>\n",
              "    async function quickchart(key) {\n",
              "      const quickchartButtonEl =\n",
              "        document.querySelector('#' + key + ' button');\n",
              "      quickchartButtonEl.disabled = true;  // To prevent multiple clicks.\n",
              "      quickchartButtonEl.classList.add('colab-df-spinner');\n",
              "      try {\n",
              "        const charts = await google.colab.kernel.invokeFunction(\n",
              "            'suggestCharts', [key], {});\n",
              "      } catch (error) {\n",
              "        console.error('Error during call to suggestCharts:', error);\n",
              "      }\n",
              "      quickchartButtonEl.classList.remove('colab-df-spinner');\n",
              "      quickchartButtonEl.classList.add('colab-df-quickchart-complete');\n",
              "    }\n",
              "    (() => {\n",
              "      let quickchartButtonEl =\n",
              "        document.querySelector('#df-e2213fde-d859-4747-b074-16cdb938e5c0 button');\n",
              "      quickchartButtonEl.style.display =\n",
              "        google.colab.kernel.accessAllowed ? 'block' : 'none';\n",
              "    })();\n",
              "  </script>\n",
              "</div>\n",
              "\n",
              "    </div>\n",
              "  </div>\n"
            ],
            "application/vnd.google.colaboratory.intrinsic+json": {
              "type": "dataframe",
              "summary": "{\n  \"name\": \"pd\",\n  \"rows\": 10,\n  \"fields\": [\n    {\n      \"column\": \"BinRange\",\n      \"properties\": {\n        \"dtype\": \"interval[float64, right]\",\n        \"num_unique_values\": 10,\n        \"samples\": [\n          \"(29915890.0, 33584923.0]\",\n          \"(4232659.0, 7901692.0]\",\n          \"(18908791.0, 22577824.0]\"\n        ],\n        \"semantic_type\": \"\",\n        \"description\": \"\"\n      }\n    },\n    {\n      \"column\": \"Count\",\n      \"properties\": {\n        \"dtype\": \"number\",\n        \"std\": 7,\n        \"min\": 0,\n        \"max\": 24,\n        \"num_unique_values\": 6,\n        \"samples\": [\n          24,\n          14,\n          0\n        ],\n        \"semantic_type\": \"\",\n        \"description\": \"\"\n      }\n    },\n    {\n      \"column\": \"States\",\n      \"properties\": {\n        \"dtype\": \"string\",\n        \"num_unique_values\": 9,\n        \"samples\": [\n          \"\",\n          \"KY,LA,SC,AL,CO,MN,WI,MD,MO,TN,AZ,IN,MA,WA\",\n          \"NY\"\n        ],\n        \"semantic_type\": \"\",\n        \"description\": \"\"\n      }\n    }\n  ]\n}"
            }
          },
          "metadata": {},
          "execution_count": 39
        }
      ]
    },
    {
      "cell_type": "code",
      "source": [
        "# 44p"
      ],
      "metadata": {
        "id": "o2A6k2PV0RXp"
      },
      "execution_count": null,
      "outputs": []
    },
    {
      "cell_type": "markdown",
      "source": [
        "### **Chapter01.06 이진 데이터와 범주 데이터 탐색하기 (47p)**"
      ],
      "metadata": {
        "id": "3ut3GQSYKXne"
      }
    },
    {
      "cell_type": "code",
      "source": [],
      "metadata": {
        "id": "mb2InsYLKYey"
      },
      "execution_count": null,
      "outputs": []
    },
    {
      "cell_type": "markdown",
      "source": [
        "### **Chapter01.07 상관관계 (51p)**"
      ],
      "metadata": {
        "id": "_lsV1gxRKe2-"
      }
    },
    {
      "cell_type": "code",
      "source": [],
      "metadata": {
        "id": "QW8cHijyKjL_"
      },
      "execution_count": null,
      "outputs": []
    },
    {
      "cell_type": "markdown",
      "source": [
        "### **Chapter01.08 두 개 이상의 변수 탐색하기 (56p)**"
      ],
      "metadata": {
        "id": "lPtJdYZzKjwH"
      }
    },
    {
      "cell_type": "code",
      "source": [],
      "metadata": {
        "id": "pJyv4hqzKshl"
      },
      "execution_count": null,
      "outputs": []
    }
  ]
}