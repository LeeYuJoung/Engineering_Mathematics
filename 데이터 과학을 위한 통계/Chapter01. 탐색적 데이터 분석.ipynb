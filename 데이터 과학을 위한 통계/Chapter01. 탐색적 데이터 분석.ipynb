{
  "nbformat": 4,
  "nbformat_minor": 0,
  "metadata": {
    "colab": {
      "provenance": []
    },
    "kernelspec": {
      "name": "python3",
      "display_name": "Python 3"
    },
    "language_info": {
      "name": "python"
    }
  },
  "cells": [
    {
      "cell_type": "markdown",
      "source": [
        "## **Chapter01. 탐색적 데이터 분석 (20~67p)**"
      ],
      "metadata": {
        "id": "sJQCa7E5Afgp"
      }
    },
    {
      "cell_type": "markdown",
      "source": [
        "### **Chapter01.01 정형화된 데이터의 요소 (20p)**"
      ],
      "metadata": {
        "id": "IIUVvdolAm9f"
      }
    },
    {
      "cell_type": "markdown",
      "source": [
        "* **추론**\n",
        "  * 적은 표본(샘플)을 가지고 더 큰 모집단에 대한 결론을 도출하기 위한 일련의 복잡한 과정"
      ],
      "metadata": {
        "id": "OPXZP1b9A3U9"
      }
    },
    {
      "cell_type": "markdown",
      "source": [
        "* **정형 데이터의 기본 종류**\n",
        "  * **수치형 데이터 ➜ 숫자를 이용해 표현할 수 있는 데이터**\n",
        "    * 연속형 데이터 (Continuous)\n",
        "      * 일정 범위 안에서 어떤 값이든 취할 수 있은 데이터   (예 : 풍속, 지속 시간 등....)\n",
        "    * 이산형 데이터 (Discrete)\n",
        "      * 횟수와 같은 정수 값만 취할 수 있는 데이터 (예 : 사건의 발생 빈도 등...)\n",
        "  * **범주형 데이터 ➜ 가능한 범주 안의 값만을 취하는 데이터**\n",
        "    * 이진 데이터 (Binary)\n",
        "      * 두 개의 값만을 갖는 범주형 데이터의 특수한 경우 (예 : 참/거짓 등...)\n",
        "    * 순서형 데이터 (Ordinal)\n",
        "      * 값들 사이에 분명한 순위가 있는 데이터 (예 : 평점 등...)"
      ],
      "metadata": {
        "id": "J0zzuOfSHkRd"
      }
    },
    {
      "cell_type": "markdown",
      "source": [
        "### **Chapter01.02 테이블 데이터 (24p)**"
      ],
      "metadata": {
        "id": "B7vnmT9Md8TY"
      }
    },
    {
      "cell_type": "markdown",
      "source": [
        "* **테이블 데이터**\n",
        "  * 각 ***레코드(사건, 사례, 예제, 관측값, 패턴, 샘플)***를 나타내는 행과, ***피처 (변수, 특징, 속성, 입력, 예측변수)***를 나타내는 열로 이루어진 이차원 행렬을 의미하는 일반적인 용어"
      ],
      "metadata": {
        "id": "xmT86qcBfeIR"
      }
    },
    {
      "cell_type": "markdown",
      "source": [
        "* **시계열 데이터**\n",
        "  * 동일한 변수 안에 연속적인 측정값을 가지며, 이는 통계적 예측 기법들을 위한 원재료가 되며, 다양한 디바이스에서 생성되는 데이터들에게 중요한 요소"
      ],
      "metadata": {
        "id": "claxAm2Wi8FD"
      }
    },
    {
      "cell_type": "markdown",
      "source": [
        "* **공간 데이터**\n",
        "  * 지도 제작과 위치 정보 분석에 사용되는 데이터\n",
        "  * ***객체(object)***를 표현할 때는, 어떤 객체와 그것의 공간 좌표가 데이터의 중심\n",
        "    * 객체란 하나의 실체로 인식될 수 있는 것들과 그것의 위치 정보 의미 (예 : 건물, 도로 등)\n",
        "  * ***필드(field) 정보***는 공간을 나타내는 작은 단위들과 적당한 측정 기준값에 중점을 둠\n",
        "    * 필드는 일정 공간 상에 연속적으로 분포된 특정 계량값들 의미 (예 : 기온, 수온, 압력 등)"
      ],
      "metadata": {
        "id": "ZD7BJbidkA_9"
      }
    },
    {
      "cell_type": "markdown",
      "source": [
        "* **그래프 데이터**\n",
        "  * 물리적 관계, 사회적 관계 그리고 다소 추상적인 관계들을 표현하기 위해 사용\n",
        "  * 그래프 구조는 특히 네트워크 최적화나 추천 시스템 같은 문제에 유용"
      ],
      "metadata": {
        "id": "e0I9UetokIh1"
      }
    },
    {
      "cell_type": "markdown",
      "source": [
        "### **Chapter01.03 위치 추정 (28p)**"
      ],
      "metadata": {
        "id": "YsspzmD7hTpV"
      }
    },
    {
      "cell_type": "markdown",
      "source": [
        "* **위치**\n",
        "  * 데이터의 특징을 요약하는 다양한 요소들 중 하나"
      ],
      "metadata": {
        "id": "2wzeH-9Yj2f1"
      }
    },
    {
      "cell_type": "markdown",
      "source": [
        "* **대푯값 (Typical Value)**\n",
        "  * 데이터를 살펴보는 가장 기초적인 단계\n",
        "  * 대부분의 값이 어디쯤에 위치하는지 ***중심경향성을 나타내는 추정값***\n",
        "  * 종류\n",
        "    * **평균 (Mean)** ➜ 모든 값의 총합을 개수로 나눈 값\n",
        "    * **절사평균 (Trimmed Mean)** ➜ 정해진 개수의 극단값을 제외한 나머지 값들의 평균\n",
        "    * **가중평균 (Weighted Mean)** ➜ 가중치를 곱한 값의 총합을 가중치의 총합으로 나눈 값\n",
        "    * **중간값 / 중위수 (Mediaan)** ➜ 데이터에서 가장 가운데 위치한 값\n",
        "    * **가중 중간값 (Weighted Median)** ➜ 데이터를 정렬한 후, 각 가중치 값을 위에서부터 더할 때, 총합의 중간이 위치하는 데이터 값\n",
        "    * **백분위수 (Percentile)** ➜ 전체 데이터의 p%를 아래에 두는 값\n",
        "    * **특잇값 (Outlier)** ➜ 대부분의 값과 매우 다른 데이터 값\n",
        "    * **로버스트 (Robust)** ➜ 극단값들에 민감하지 않다는 것을 의미"
      ],
      "metadata": {
        "id": "TG4IoiG9pTY_"
      }
    },
    {
      "cell_type": "markdown",
      "source": [
        "* **평균 (Mean)**\n",
        "  * **모평균** ➜ $μ = \\frac{1}{N} \\displaystyle\\sum_{i=1}^{N} x_i$\n",
        "  * **표본 평균 (모집단 표본의 평균)** ➜ $\\overline X = \\frac{1}{n} \\displaystyle\\sum_{i=1}^{n} x_i$\n",
        "    * $N$은 주로 레코드나 관측값의 개수 나타냄\n",
        "      * ***대문자는 모집단***, ***소문자는 모집단에서 얻은 표본의 개수***를 의미\n",
        "  * **절사평균**\n",
        "    * 값들을 크기 순으로 정렬한 후, ***양끝에서 일정 개수의 값들을 삭제***한 뒤 남은 값들을 가지고 구한 평균\n",
        "    * $p$개의 가장 크고 작은 값들을 제외한 뒤 계산하여 ***극단값의 영향을 제거***\n",
        "    * $\\overline X = \\frac{1}{n-2p} \\displaystyle\\sum_{i=p+1}^{n-p} x_i$\n",
        "  * **가중평균**\n",
        "    * 각 데이터 값 $x_i$에 ***사용자가 지정한 가중치 $w_i$를 곱한 값들의 총합***을 다시 가중치의 총합으로 나눈 값\n",
        "    * $\\overline X_w = \\frac{1}{\\displaystyle\\sum_{i=1}^{n} w_i}\\displaystyle\\sum_{i=1}^{n}w_i x_i$\n",
        "\n"
      ],
      "metadata": {
        "id": "9P_c_mF6qiRR"
      }
    },
    {
      "cell_type": "markdown",
      "source": [
        "* **중간값 (Median)**\n",
        "  * 데이터를 일렬로 정렬했을 때, 한가운데에 위치하는 값\n",
        "  * 결과를 왜곡할 수 있는 특잇값들의 영향을 받지 않음 ➜ ***로버스트한 위치 추정 방법***\n",
        "  * **가중 중간값**\n",
        "    * 어떤 위치를 기준으로 상위 절반의 가중치의 합이 하위 절반의 가중치의 합과 동일한 위치의 값"
      ],
      "metadata": {
        "id": "3npky-XCQ4pH"
      }
    },
    {
      "cell_type": "markdown",
      "source": [
        "* **특잇값 / 극단값 (Outlier)**\n",
        "  * 어떤 데이터 집합에서 다른 값들과 매우 멀리 떨어져 있는 값들\n",
        "  * 데이터 값 자체가 유효하지 않거나, 잘못되었다는 뜻은 아님"
      ],
      "metadata": {
        "id": "Y8wyUoozUvUt"
      }
    },
    {
      "cell_type": "markdown",
      "source": [
        "* **정리**\n",
        "  * 가장 기본적인 위치 추정 기법은 평균이지만, 특잇값에 민감\n",
        "  * 중간값, 절사평균과 같은 방법이 특잇값이나 이상 데이터에 덜 민감하므로 좀 더 로버스트함"
      ],
      "metadata": {
        "id": "lPzZTjdoi9eQ"
      }
    },
    {
      "cell_type": "code",
      "source": [
        "!pip install wquantiles"
      ],
      "metadata": {
        "id": "P7y_WP2ehS6w"
      },
      "execution_count": null,
      "outputs": []
    },
    {
      "cell_type": "code",
      "source": [
        "### 01.03 예제) 인구에 따른 살인 비율의 위치 추정\n",
        "\n",
        "## import Package\n",
        "%matplotlib inline\n",
        "\n",
        "from pathlib import Path\n",
        "\n",
        "import pandas as pd\n",
        "import numpy as np\n",
        "from scipy.stats import trim_mean\n",
        "from statsmodels import robust\n",
        "import wquantiles\n",
        "\n",
        "import seaborn as sns\n",
        "import matplotlib.pylab as plt"
      ],
      "metadata": {
        "id": "eN4W1vuphUxn"
      },
      "execution_count": 21,
      "outputs": []
    },
    {
      "cell_type": "code",
      "source": [
        "try:\n",
        "    import common\n",
        "    DATA = common.dataDirectory()\n",
        "except ImportError:\n",
        "    DATA = Path().resolve() / 'data'"
      ],
      "metadata": {
        "id": "Qv6VgVrzclBD"
      },
      "execution_count": 3,
      "outputs": []
    },
    {
      "cell_type": "code",
      "source": [
        "## 주별 인구와 살인 비율을 담고 있는 데이터 프레임 state.csv 가져오기\n",
        "sate = pd.read_csv('/content/state.csv')\n",
        "print(state.head(8))"
      ],
      "metadata": {
        "colab": {
          "base_uri": "https://localhost:8080/"
        },
        "id": "lCMYC-v4crfN",
        "outputId": "7bc859cc-fd04-4c37-c759-ecc482b2ae19"
      },
      "execution_count": 8,
      "outputs": [
        {
          "output_type": "stream",
          "name": "stdout",
          "text": [
            "         State  Population  Murder.Rate Abbreviation\n",
            "0      Alabama     4779736          5.7           AL\n",
            "1       Alaska      710231          5.6           AK\n",
            "2      Arizona     6392017          4.7           AZ\n",
            "3     Arkansas     2915918          5.6           AR\n",
            "4   California    37253956          4.4           CA\n",
            "5     Colorado     5029196          2.8           CO\n",
            "6  Connecticut     3574097          2.4           CT\n",
            "7     Delaware      897934          5.8           DE\n"
          ]
        }
      ]
    },
    {
      "cell_type": "code",
      "source": [
        "## Population(인구수) 평균\n",
        "print(state['Population'].mean())"
      ],
      "metadata": {
        "colab": {
          "base_uri": "https://localhost:8080/"
        },
        "id": "bjvzQydueBhv",
        "outputId": "d7ad1c9a-9285-4150-f9c2-6aacf7f3e387"
      },
      "execution_count": 12,
      "outputs": [
        {
          "output_type": "stream",
          "name": "stdout",
          "text": [
            "6162876.3\n"
          ]
        }
      ]
    },
    {
      "cell_type": "code",
      "source": [
        "## Population(인구수) 각 끝에서 10%를 제외한 절사평균\n",
        "print(trim_mean(state['Population'], 0.1))"
      ],
      "metadata": {
        "colab": {
          "base_uri": "https://localhost:8080/"
        },
        "id": "_4LtW4wbe6rq",
        "outputId": "8955f879-9c45-4faa-d2c3-1b54d188dd7f"
      },
      "execution_count": 13,
      "outputs": [
        {
          "output_type": "stream",
          "name": "stdout",
          "text": [
            "4783697.125\n"
          ]
        }
      ]
    },
    {
      "cell_type": "code",
      "source": [
        "## Population(인구수) 중위수\n",
        "print(state['Population'].median())"
      ],
      "metadata": {
        "colab": {
          "base_uri": "https://localhost:8080/"
        },
        "id": "A5aGd3CTfKbB",
        "outputId": "b4731290-7411-46a0-af81-34ba8603de20"
      },
      "execution_count": 11,
      "outputs": [
        {
          "output_type": "stream",
          "name": "stdout",
          "text": [
            "4436369.5\n"
          ]
        }
      ]
    },
    {
      "cell_type": "code",
      "source": [
        "## Murder.Rate(살인 비율) 평균\n",
        "print(state['Murder.Rate'].mean())"
      ],
      "metadata": {
        "colab": {
          "base_uri": "https://localhost:8080/"
        },
        "id": "YOXgi4VTfrSZ",
        "outputId": "a2ebe22b-9928-462c-ba73-0430c1af4089"
      },
      "execution_count": 15,
      "outputs": [
        {
          "output_type": "stream",
          "name": "stdout",
          "text": [
            "4.066\n"
          ]
        }
      ]
    },
    {
      "cell_type": "code",
      "source": [
        "## Murder.Rate(살인 비율) 과 Population(인구수) 가중평균\n",
        "print(np.average(state['Murder.Rate'], weights = state['Population']))"
      ],
      "metadata": {
        "colab": {
          "base_uri": "https://localhost:8080/"
        },
        "id": "RjJFjsGwf3Pa",
        "outputId": "95fc5a16-1def-490b-f226-7eab427edcad"
      },
      "execution_count": 18,
      "outputs": [
        {
          "output_type": "stream",
          "name": "stdout",
          "text": [
            "4.445833981123393\n"
          ]
        }
      ]
    },
    {
      "cell_type": "code",
      "source": [
        "## Murder.Rate(살인 비율) 과 Population(인구수) 가중중위수\n",
        "print(wquantiles.median(state['Murder.Rate'], weights = state['Population']))"
      ],
      "metadata": {
        "colab": {
          "base_uri": "https://localhost:8080/"
        },
        "id": "Vi1CVQ7dgj8F",
        "outputId": "292659a3-82f2-43b2-b069-e9c77a87afe5"
      },
      "execution_count": 22,
      "outputs": [
        {
          "output_type": "stream",
          "name": "stdout",
          "text": [
            "4.4\n"
          ]
        }
      ]
    },
    {
      "cell_type": "markdown",
      "source": [
        "### **Chapter01.04 변이 추정 (33p)**"
      ],
      "metadata": {
        "id": "_vNEKu0lKIjd"
      }
    },
    {
      "cell_type": "markdown",
      "source": [
        "* **변이 (Variability)**\n",
        "  * 데이터 값이 얼마나 밀집해 있는지 혹은 퍼져 있는지를 나타내는 산포도를 나타냄"
      ],
      "metadata": {
        "id": "i-1SV-N8kByV"
      }
    },
    {
      "cell_type": "markdown",
      "source": [
        "* **산포도 (Dispersion, Scatter)**\n",
        "  * **편차 (Deviation)** ➜ 관측값과 위치 추정값 사이의 차이 (유의어 : 오차, 잔차)\n",
        "  * **분산 (Variance)** ➜ 평균과의 편차를 제곱한 값들의 합을 $n-1$로 나눈 값 (유의어 : 평균제곱오차)\n",
        "  * **표준편차 (Standard Deviation)** ➜ 분산의 제곱근\n",
        "  * **평균절대편차 (Mean Absolute Deviation)** ➜ 평균과의 편차의 절댓값의 평균 (유의어 : 노름, 맨해튼 노름)\n",
        "  * **중위수의 중위절대편차 (MAD)** ➜ 중간값과의 편차의 절댓값의 중간값\n",
        "  * **범위 (Range)** ➜ 데이터의 최댓값과 최솟값의 차이\n",
        "  * **순서통계량 (Order Statistics)** ➜ 최소에서 최대까지 정렬된 데이터 값에 따른 통계량 (유의어 : 순위)\n",
        "  * **백분위수 (Percentile)**\n",
        "  * **IQR (Interquartile Range : 사분위수 범위)** ➜ $Q_3 - Q_1$"
      ],
      "metadata": {
        "id": "sXodkjYejih2"
      }
    },
    {
      "cell_type": "markdown",
      "source": [
        "* **편차**"
      ],
      "metadata": {
        "id": "JSx8O9sFom2d"
      }
    },
    {
      "cell_type": "code",
      "source": [],
      "metadata": {
        "id": "pZuoCRi5KOZE"
      },
      "execution_count": null,
      "outputs": []
    },
    {
      "cell_type": "markdown",
      "source": [
        "### **Chapter01.05 데이터 분포 탐색하기 (38p)**"
      ],
      "metadata": {
        "id": "xH8C9Fi2KPDC"
      }
    },
    {
      "cell_type": "code",
      "source": [],
      "metadata": {
        "id": "YqcwZk0RKXYt"
      },
      "execution_count": null,
      "outputs": []
    },
    {
      "cell_type": "markdown",
      "source": [
        "### **Chapter01.06 이진 데이터와 범주 데이터 탐색하기 (46p)**"
      ],
      "metadata": {
        "id": "3ut3GQSYKXne"
      }
    },
    {
      "cell_type": "code",
      "source": [],
      "metadata": {
        "id": "mb2InsYLKYey"
      },
      "execution_count": null,
      "outputs": []
    },
    {
      "cell_type": "markdown",
      "source": [
        "### **Chapter01.07 상관관계 (50p)**"
      ],
      "metadata": {
        "id": "_lsV1gxRKe2-"
      }
    },
    {
      "cell_type": "code",
      "source": [],
      "metadata": {
        "id": "QW8cHijyKjL_"
      },
      "execution_count": null,
      "outputs": []
    },
    {
      "cell_type": "markdown",
      "source": [
        "### **Chapter01.08 두 개 이상의 변수 탐색하기 (55p)**"
      ],
      "metadata": {
        "id": "lPtJdYZzKjwH"
      }
    },
    {
      "cell_type": "code",
      "source": [],
      "metadata": {
        "id": "pJyv4hqzKshl"
      },
      "execution_count": null,
      "outputs": []
    }
  ]
}