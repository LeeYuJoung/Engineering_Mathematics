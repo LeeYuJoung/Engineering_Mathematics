{
  "nbformat": 4,
  "nbformat_minor": 0,
  "metadata": {
    "colab": {
      "provenance": []
    },
    "kernelspec": {
      "name": "python3",
      "display_name": "Python 3"
    },
    "language_info": {
      "name": "python"
    }
  },
  "cells": [
    {
      "cell_type": "markdown",
      "source": [
        "## **Chapter03. 신경망 최적화 (132~167p)**"
      ],
      "metadata": {
        "id": "KZSvDWBD16cJ"
      }
    },
    {
      "cell_type": "markdown",
      "source": [
        "### **Chapter03.01 신경망의 파라미터와 변수 (132p)**"
      ],
      "metadata": {
        "id": "A4eY1kSvlUhs"
      }
    },
    {
      "cell_type": "markdown",
      "source": [
        "* **파라미터와 변수의 개수와 이름**\n",
        "  * **층 (Layer)** ➜ 오른쪽 끝의 출력층은 층 $L$로 번호 매김 ($L^{last}$은 층의 총 개수)\n",
        "  * $x_i$ ➜ 입력층 1층의 $i$번쨰 노드의 입력을 나타내는 변수\n",
        "  * $w^l_{ji}$ ➜ $l-1$층의 $i$번째 노드에서 $l$층의 $j$번째 노드로 향하는 화살표선의 가중치 (신경망 계산에 필요한 파라미터)\n",
        "  * $z^l_j$ ➜ $l$층 $j$번째 노드를 처리하는 가중 입력 나타내는 변수\n",
        "  * $b^l_j$ ➜ $l$층 $j$번째에 있는 노드의 편향 (신경망 계산에 필요한 파라미터)\n",
        "  * $a^l_j$ ➜ $l$층의 $j$번째에 있는 노드의 출력 변수"
      ],
      "metadata": {
        "id": "RF4DjTeF2H1o"
      }
    },
    {
      "cell_type": "markdown",
      "source": [
        "* **변숫값의 표시 방법**\n",
        "  * 2층 첫 번째 노드의 가중 입력 $z^2_1$ 값 구하기\n",
        "    * 입력층 ➜ $x_1, x_2, \\cdots, x_12$\n",
        "    * 가중 입력 ➜ $z^2_1 = w^2_{11}x_1 + w^2_{12}x_2 + w^2_{13}x_3 + ⋯ + w^2_{112}x_{12} + b^2_1$\n",
        "    * 어두운 부분 1, 흰 부분 0로 정함\n",
        "      * $z^2_1 = w^2_{11}⋅1 + w^2_{12}⋅1 + w^2_{13}⋅0 + ⋯ + w^2_{112}⋅0 + b^2_1=w^2_{11}+w^2_{12}+w^2_{15}+w^2_{18}+w^2_{111}+b^2_1$\n",
        "  * 학습 데이터의 $k$번째 학습 예제가 주어졌을 때, 변숫값 표현\n",
        "    * $x_i[k]$ : 입력층 $i$번째 노드의 입력값\n",
        "    * $z^l_j[k]$ : $l$층 $j$번째 노드의 가중 입력값\n",
        "    * $a^l_j[k]$ : $l$층 $j$번째 노드의 출력값"
      ],
      "metadata": {
        "id": "23m2ChTDyWgP"
      }
    },
    {
      "cell_type": "markdown",
      "source": [
        "### **Chapter03.02 신경망 변수의 관계식 (143p)**"
      ],
      "metadata": {
        "id": "Z5mKsEqnlqHY"
      }
    },
    {
      "cell_type": "markdown",
      "source": [
        "* **입력층의 관계식**\n",
        "  * ***출력 변수*** $a^l_j$을 입력층에 대입해서 표현하는 개념\n",
        "  * 입력층은 1층이기 때문에 $x_i = a^1_j$로 표현 가능\n",
        "\n",
        "* **은닉층의 관계식**\n",
        "  * 2층의 변수 및 파라미터 사이의 관계식에서 도출하는 ***가중 입력*** $z^l_j$과 ***출력 변수*** $a^l_j$로 나타냄\n",
        "  * $a(z)$를 활성화 함수로 하는 은닉층의 관계식\n",
        "    * $z^2_1 = w^2_{11}x_1 + w^2_{12}x_2 + w^2_{13}x_3 + ⋯ + w^2_{112}x_{12} + b^2_1$\n",
        "    * $a^2_1 = a(z^2_1)$\n",
        "\n",
        "* **출력층의 관계식**\n"
      ],
      "metadata": {
        "id": "ZDbvltqmApi3"
      }
    },
    {
      "cell_type": "markdown",
      "source": [
        "### **Chapter03.03 학습 데이터와 정답 데이터 (147p)**"
      ],
      "metadata": {
        "id": "8QF7XYXol4l5"
      }
    },
    {
      "cell_type": "markdown",
      "source": [
        "* **신경망의 학습 데이터와 정답 데이터**\n",
        "  * ***정답 데이터***\n",
        "    * 신경망이 막 계산을 시작했을 떄는 이미지가 어떤 숫자인지 판단 불가\n",
        "      \n",
        "      ➜ 주어진 이미지의 숫자가 무엇인지 신경망에 가르칠 필요 있음"
      ],
      "metadata": {
        "id": "oC-y03dMNIJi"
      }
    },
    {
      "cell_type": "markdown",
      "source": [
        "* **신경망에서 계산한 예측값과 정답 데이터와의 제곱오차**\n",
        "  * $C = \\frac{1}{2}\\{(t_1 - a^3_1)^2 + (t_2 - a^3_2)^2\\}$"
      ],
      "metadata": {
        "id": "dpaxbFZJOQMj"
      }
    },
    {
      "cell_type": "markdown",
      "source": [
        "### **Chapter03.04 신경망의 비용함수 (152p)**"
      ],
      "metadata": {
        "id": "3C9mKvJFmAJi"
      }
    },
    {
      "cell_type": "markdown",
      "source": [
        "* **모델의 정밀도를 표현하는 비용함수**\n",
        "  * 파라미터 결정 방법\n",
        "    * 예측값과 정답 데이터의 오차가 ***모든 데이터를 대상으로 최소***가 되도록 수학 모델의 파라미터를 결정"
      ],
      "metadata": {
        "id": "0uhwa2JCRhCF"
      }
    },
    {
      "cell_type": "markdown",
      "source": [
        "* **최적화**\n",
        "  * 제곱오차의 합을 나타내는 비용함수 $C_T$의 최솟값을 구하는 것이 최적의 파라미터를 결정하는 최적화를 하는 것"
      ],
      "metadata": {
        "id": "vAvLbeQxbYsT"
      }
    },
    {
      "cell_type": "markdown",
      "source": [
        "* $k$번째 이미지가 학습 데이터로 입력되었고, 제곱오차값 $C$를 $C_k$로 둘 때\n",
        "  * $C_k = \\frac{1}{2} \\{(t_1[k] - a_1^3[k])^2 + (t_2[k] - a_2^3[k])^2\\}$\n",
        "* 비용함수\n",
        "  * $C_T = C_1 + C_2 + \\cdots + C_{64}$\n",
        "  * 각 데이터의 ***제곱오차 총합***\n",
        "  * 모델의 파라미터를 이용하여 표현한 오차 전체의 함수\n",
        "  * 손실함수, 목적함수, 오차함수 등으로도 부름\n",
        "  * 비용함수가 최솟값이 되도록 파라미터(가중치와 편향)을 정해야 함"
      ],
      "metadata": {
        "id": "HcQAoEQ2UoRM"
      }
    },
    {
      "cell_type": "markdown",
      "source": [
        "### **Chapter03.05 엑셀로 신경망의 가중치와 편향 결정하기 (161p)**"
      ],
      "metadata": {
        "id": "YCrSbCGkmJwt"
      }
    },
    {
      "cell_type": "markdown",
      "source": [
        "* **학습용 이미지 데이터 읽기**\n",
        "* **가중치와 편향의 초깃값 설정하기**\n",
        "* **첫 번째 이미지에 관한 각 유닛의 가중 입력, 출력, 제곱오차 계산하기**"
      ],
      "metadata": {
        "id": "huHoOA92Qcyl"
      }
    }
  ]
}