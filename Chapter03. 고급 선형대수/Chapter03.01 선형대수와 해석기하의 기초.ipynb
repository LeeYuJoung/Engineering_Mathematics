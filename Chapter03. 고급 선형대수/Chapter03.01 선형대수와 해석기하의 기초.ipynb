{
  "nbformat": 4,
  "nbformat_minor": 0,
  "metadata": {
    "colab": {
      "provenance": []
    },
    "kernelspec": {
      "name": "python3",
      "display_name": "Python 3"
    },
    "language_info": {
      "name": "python"
    }
  },
  "cells": [
    {
      "cell_type": "markdown",
      "source": [
        "### **Chapter03.01 선형대수와 해석기하의 기초 (139~163p)**"
      ],
      "metadata": {
        "id": "9FMiEvK1j17z"
      }
    },
    {
      "cell_type": "markdown",
      "source": [
        "#### **Chapter03.01.01 벡터**"
      ],
      "metadata": {
        "id": "DAD5n6V7mVUX"
      }
    },
    {
      "cell_type": "markdown",
      "source": [
        "* **벡터의 길이**\n",
        "  * 벡터 $a$의 길이는 놈 $\\parallel a \\parallel$ 으로 정의\n",
        "* **벡터의 놈 (norm)**\n",
        "  * 선형대수에서 놈은 ***벡터의 크기 또는 길이를 측정***하는 방법"
      ],
      "metadata": {
        "id": "Cga4AGzhQBnn"
      }
    },
    {
      "cell_type": "code",
      "execution_count": null,
      "metadata": {
        "colab": {
          "base_uri": "https://localhost:8080/"
        },
        "id": "jwUXNB82Mysb",
        "outputId": "ae369307-4363-4064-ca2f-e550445a0503"
      },
      "outputs": [
        {
          "output_type": "execute_result",
          "data": {
            "text/plain": [
              "2.23606797749979"
            ]
          },
          "metadata": {},
          "execution_count": 2
        }
      ],
      "source": [
        "# 벡터의 길이 놈으로 계산\n",
        "import numpy as np\n",
        "\n",
        "a = np.array([1, 2])\n",
        "np.linalg.norm(a)"
      ]
    },
    {
      "cell_type": "markdown",
      "source": [
        "* **스칼라와 벡터의 곱**\n",
        "  * 양의 실수와 벡터를 곱하면 벡터의 방향은 변하지 않고 실수 크기만큼 벡터 길이가 커짐\n",
        "  * 만약 음의 실수를 곱하면 벡터의 방향 반대가 됨"
      ],
      "metadata": {
        "id": "AWXZspgxRYH4"
      }
    },
    {
      "cell_type": "markdown",
      "source": [
        "* **단위 벡터 (unit vector)**\n",
        "  * ***길이가 1인 벡터***를 단위벡터라고 함"
      ],
      "metadata": {
        "id": "K-vByiT5ToEK"
      }
    },
    {
      "cell_type": "markdown",
      "source": [
        "* **벡터의 방향**\n",
        "  * 영벡터가 아닌 임의의 벡터 $x$에 대해 다음 벡터는 벡터 $x$와 같은 방향을 가리키는 단위벡터가  됨 ➜ $\\frac{x}{\\parallel x \\parallel}$"
      ],
      "metadata": {
        "id": "vRdpjqNP_a1j"
      }
    },
    {
      "cell_type": "code",
      "source": [
        "# 단위벡터 계산\n",
        "a = np.array([1, 0])\n",
        "b = np.array([0, 1])\n",
        "c = np.array([1/np.sqrt(2), 1 / np.sqrt(2)])\n",
        "\n",
        "np.linalg.norm(a), np.linalg.norm(b), np.linalg.norm(c)"
      ],
      "metadata": {
        "colab": {
          "base_uri": "https://localhost:8080/"
        },
        "id": "VIAPtVbxRI-w",
        "outputId": "3d6cca9f-bd2b-4cf1-c9ba-cae78e7489f5"
      },
      "execution_count": null,
      "outputs": [
        {
          "output_type": "execute_result",
          "data": {
            "text/plain": [
              "(1.0, 1.0, 0.9999999999999999)"
            ]
          },
          "metadata": {},
          "execution_count": 4
        }
      ]
    },
    {
      "cell_type": "markdown",
      "source": [
        "* **벡터의 합**\n",
        "  * 벡터와 벡터의 합도 벡터가 됨\n",
        "  * 두 벡터의 합은 그 두 벡터를 이웃하는 변으로 가지는 평행사변형의 대각선 벡터가 됨"
      ],
      "metadata": {
        "id": "TAl9-fgGUt1D"
      }
    },
    {
      "cell_type": "markdown",
      "source": [
        "* **벡터의 선형조합 (Linear Combination) (147p)**\n",
        "  * 여러 개의 벡터를 ***스칼라곱을 한 후 더한 것***\n",
        "  * $c_1x_1 + c_2x_2 + \\dots + c_Nx_N$\n",
        "  * $c_1, \\dots, c_N$ 은 스칼라 계수"
      ],
      "metadata": {
        "id": "7D5kD6quVZnI"
      }
    },
    {
      "cell_type": "markdown",
      "source": [
        "* **벡터의 차**\n",
        "  * 벡터의 차 $a-b = c$는 벡터 $b$가 가리키는 점으로부터 벡터 $a$가 가리키는 점을 연결하는 벡터다\n",
        "  * $a-b = c$\n",
        "  \n",
        "    $b+c=b+(a-b)=a$"
      ],
      "metadata": {
        "id": "cVrY4SjFqhlI"
      }
    },
    {
      "cell_type": "markdown",
      "source": [
        "* **Word2Vec**\n",
        "  * 단어 (Word)를 공간에서 점 또는 벡터로 표현"
      ],
      "metadata": {
        "id": "4QES64komYlN"
      }
    },
    {
      "cell_type": "markdown",
      "source": [
        "* **유클리드 거리 (151p)**\n",
        "  * 두 벡터가 가리키는 점 사이의 거리\n",
        "  * 벡터의 유클리드 거리는 ***벡터의 차의 길이***로 구할 수 있음 ➜ $\\parallel a - b \\parallel$"
      ],
      "metadata": {
        "id": "uIlQOv86j9bS"
      }
    },
    {
      "cell_type": "markdown",
      "source": [
        "#### **Chapter03.01.02 삼각함수**"
      ],
      "metadata": {
        "id": "VbcF72q1maSq"
      }
    },
    {
      "cell_type": "markdown",
      "source": [
        "* **삼각함수**\n",
        "  * $sin \\theta$ ➜ $\\theta$라는 각을 가지는 직각 삼각형에서 ***빗변과 높이의 비율***\n",
        "    * $sin 0^\\circ = 0$\n",
        "    * $sin 90^\\circ = 1$\n",
        "  * $cos \\theta$ ➜ $\\theta$라는 각을 가지는 직각 삼각형에서 ***빗변과 밑변의 비율***\n",
        "    * $cos 0^\\circ = 1$\n",
        "    * $cos 90^\\circ =0$"
      ],
      "metadata": {
        "id": "SY5P3BGVnPhA"
      }
    },
    {
      "cell_type": "code",
      "source": [
        "# 삼각함수 그래프 (153p)\n",
        "import numpy as np\n",
        "import matplotlib.pyplot as plt\n",
        "\n",
        "x = np.linspace(0, np.pi / 2, 100)\n",
        "y1 = np.sin(x)\n",
        "y2 = np.cos(x)\n",
        "plt.plot(x, y1, 'r--', lw = 3, label = r'$\\sin\\theta$')\n",
        "plt.plot(x, y2, 'b-', lw = 3, label = r'$\\cos\\theta$')\n",
        "plt.legend()\n",
        "plt.xticks([0, np.pi/4, np.pi/2], [r'$0^{\\circ}$', r'$45^{\\circ}$', r'$90^{\\circ}$'])\n",
        "plt.xlabel(r'$\\theta$')\n",
        "plt.title(r'Graph of $\\sin\\theta$ and $\\cos\\theta$')\n",
        "plt.show()"
      ],
      "metadata": {
        "id": "S65suE03mW3j",
        "colab": {
          "base_uri": "https://localhost:8080/",
          "height": 475
        },
        "outputId": "04fe4b96-6f61-4520-beaf-6499ed45a064"
      },
      "execution_count": 8,
      "outputs": [
        {
          "output_type": "display_data",
          "data": {
            "text/plain": [
              "<Figure size 640x480 with 1 Axes>"
            ],
            "image/png": "[encoded data removed]"
          },
          "metadata": {}
        }
      ]
    },
    {
      "cell_type": "markdown",
      "source": [
        "* **직교**\n",
        "  * 두 벡터 $a$와 $b$가 아루는 각이 $90^{\\circ}$이면 서로 직교라고 함  ➜ $a \\perp b$\n",
        "  * $cos 90^{\\circ} = 0$이므로 서로 직교인 구 벡터의 내적은 0\n",
        "\n",
        "    $a^Tb = b^Ta = 0$"
      ],
      "metadata": {
        "id": "JSOir61p-yN6"
      }
    },
    {
      "cell_type": "code",
      "source": [
        "a = np.array([1, 1])\n",
        "b = np.array([-1, 1])\n",
        "a @ b"
      ],
      "metadata": {
        "id": "CtM8Cua4p7_p",
        "colab": {
          "base_uri": "https://localhost:8080/"
        },
        "outputId": "c9d4861d-33a1-42ca-a6b1-6b31d74e7b7f"
      },
      "execution_count": 10,
      "outputs": [
        {
          "output_type": "execute_result",
          "data": {
            "text/plain": [
              "0"
            ]
          },
          "metadata": {},
          "execution_count": 10
        }
      ]
    },
    {
      "cell_type": "code",
      "source": [
        "### 연습문제) 03.01.03\n",
        "## 다음 벡터에 대해 직교하는 단위벡터\n",
        "x = np.array([[1], [0]])\n",
        "y = np.array([[0], [1]])\n",
        "\n",
        "print(np.linalg.norm(y))\n",
        "print(x.T @ y)"
      ],
      "metadata": {
        "colab": {
          "base_uri": "https://localhost:8080/"
        },
        "id": "xvoARLDQCPHd",
        "outputId": "4a9bb72c-9baf-4454-8a0e-727fd8b4167b"
      },
      "execution_count": 33,
      "outputs": [
        {
          "output_type": "stream",
          "name": "stdout",
          "text": [
            "1.0\n",
            "[[0]]\n"
          ]
        }
      ]
    },
    {
      "cell_type": "markdown",
      "source": [
        "* **코사인 유사도 (156p)**\n",
        "  * 두 벡터의 방향이 얼마나 같은지 나타내는 지표\n",
        "  * ***두 벡터의 방향이 비슷할수록 벡터가 비슷하다고 간주***하여 ***두 벡터 사이의 각의 코사인값***을 코사인 유사도라 함\n",
        "  * 코사인값은 각도가 0일때 가장 커지므로 두 벡터가 같은 방향을 가리키고 있으면 코사인 유사도가 최대값 1 가짐\n",
        "\n",
        "  * **코사인 유사도** = $cos \\theta = \\frac{x^Ty}{\\parallel x \\parallel\\parallel y \\parallel}$\n",
        "\n",
        "  * **코사인 거리** = 1 - 코사인 유사도\n",
        "  * 예) 추천시스템에서 사용자의 취향이 얼마나 비슷한지 계산"
      ],
      "metadata": {
        "id": "y3XB4jFBHInB"
      }
    },
    {
      "cell_type": "code",
      "source": [
        "### 연습문제) 03.01.06\n",
        "a = np.array([[4], [5], [2], [2]])\n",
        "b = np.array([[4], [0], [2], [0]])\n",
        "c = np.array([[2], [2], [0], [1]])\n",
        "\n",
        "## 유클리드 거리\n",
        "np.linalg.norm(a-b), np.linalg.norm(a-c), np.linalg.norm (b-c)"
      ],
      "metadata": {
        "colab": {
          "base_uri": "https://localhost:8080/"
        },
        "id": "_Ngcze5pGgcP",
        "outputId": "a551d2a3-dff1-4762-d6d6-29cb909ab06c"
      },
      "execution_count": 37,
      "outputs": [
        {
          "output_type": "execute_result",
          "data": {
            "text/plain": [
              "(5.385164807134504, 4.242640687119285, 3.605551275463989)"
            ]
          },
          "metadata": {},
          "execution_count": 37
        }
      ]
    },
    {
      "cell_type": "code",
      "source": [
        "## 코사인 거리\n",
        "1 - ((a.T @ b) / (np.linalg.norm(a) * np.linalg.norm(b))), 1 - ((a.T @ c) / (np.linalg.norm(a) * np.linalg.norm(c))), 1 - ((b.T @ c) / (np.linalg.norm(b) * np.linalg.norm(c)))"
      ],
      "metadata": {
        "colab": {
          "base_uri": "https://localhost:8080/"
        },
        "id": "psYe1DGzLqh3",
        "outputId": "579c6252-ff4c-4b19-edf3-52b2407b0a92"
      },
      "execution_count": 40,
      "outputs": [
        {
          "output_type": "execute_result",
          "data": {
            "text/plain": [
              "(array([[0.36112344]]), array([[0.04761905]]), array([[0.40371521]]))"
            ]
          },
          "metadata": {},
          "execution_count": 40
        }
      ]
    },
    {
      "cell_type": "markdown",
      "source": [
        "* **벡터의 분해와 성분**\n",
        "  * 어떤 두 벡터 $A, B$의 합이 다른 벡터 $C$가 될 때 ***$C$가 두 벡터 성분 $A, B$으로 분해 된다 함***"
      ],
      "metadata": {
        "id": "-WcjI9q1N-Ch"
      }
    },
    {
      "cell_type": "code",
      "source": [
        "### 연습문제) 03.01.07\n",
        "a = np.array([1, 0])\n",
        "\n",
        "b = np.array([0, 1])\n",
        "c = np.array([1, -1])\n",
        "b +c"
      ],
      "metadata": {
        "colab": {
          "base_uri": "https://localhost:8080/"
        },
        "id": "EeKyr-81NcAJ",
        "outputId": "7f783184-ea80-4db7-973e-de62f23a3c57"
      },
      "execution_count": 42,
      "outputs": [
        {
          "output_type": "execute_result",
          "data": {
            "text/plain": [
              "array([1, 0])"
            ]
          },
          "metadata": {},
          "execution_count": 42
        }
      ]
    },
    {
      "cell_type": "markdown",
      "source": [
        "#### **Chapter03.01.03 투영성분과 직교성분**"
      ],
      "metadata": {
        "id": "kyR__Ptlmhtb"
      }
    },
    {
      "cell_type": "markdown",
      "source": [
        "* **투영성분 (Projection)과 직교성분(Rejection) (157p)**\n",
        "  * 벡터 $a$를 다른 벡터 $b$에 직교하는 성분과 벡터 $b$에 평행한 성분으로 분해 가능\n",
        "    * 평행한 성분을 벡터 $b$에 대한 ***투영성분*** ➜ $a^{\\parallel b}$\n",
        "    * 벡터 $b$에 직교인 성분을 벡터 $b$에 대한 ***직교성분*** ➜ $a^{\\perp b}$\n",
        "  * **투영성분의 길이**\n",
        "    * $\\parallel a^{\\parallel b} \\parallel = \\parallel a \\parallel cos\\theta = \\frac{\\parallel a \\parallel\\parallel b \\parallel cos\\theta}{\\parallel b \\parallel} = \\frac{a^Tb}{\\parallel b \\parallel}$\n",
        "  * **투영성분의 벡터**\n",
        "    * 투영성분 길이와 벡터 $b$ 방향의 단위벡터의 곱\n",
        "    * $a^{\\parallel b} = \\frac{a^Tb}{\\parallel b \\parallel} \\frac{b}{\\parallel b \\parallel}$\n",
        "  * **직교성분의 벡터**\n",
        "    * 원래의 벡터에서 투영성분 벡터를 뺸 나머지\n",
        "    * $a^{\\perp b} = a - a^{\\parallel b}$"
      ],
      "metadata": {
        "id": "1sg7PDfAOYkK"
      }
    },
    {
      "cell_type": "code",
      "source": [
        "### 연습문제) 03.01.08\n",
        "a = np.array([[1], [2]])\n",
        "b = np.array([[2], [0]])\n",
        "\n",
        "## 투영성분 벡터\n",
        "print(((a.T @ b) / np.linalg.norm(b)) * (b / np.linalg.norm(b)))\n",
        "\n",
        "## 직교성분 벡터\n",
        "print(a - ((a.T @ b) / np.linalg.norm(b)) * (b / np.linalg.norm(b)))"
      ],
      "metadata": {
        "colab": {
          "base_uri": "https://localhost:8080/"
        },
        "id": "Opa-n3TNb9Ap",
        "outputId": "0a9ca1eb-71db-4681-d4bf-5c49efedf627"
      },
      "execution_count": 45,
      "outputs": [
        {
          "output_type": "stream",
          "name": "stdout",
          "text": [
            "[[1.]\n",
            " [0.]]\n",
            "[[0.]\n",
            " [2.]]\n"
          ]
        }
      ]
    },
    {
      "cell_type": "markdown",
      "source": [
        "#### **Chapter03.01.04 직선의 방정식**"
      ],
      "metadata": {
        "id": "Pkln0b1zml1A"
      }
    },
    {
      "cell_type": "markdown",
      "source": [
        "* **직선과 점의 거리 (160p)**"
      ],
      "metadata": {
        "id": "p51CYqoDcROU"
      }
    }
  ]
}