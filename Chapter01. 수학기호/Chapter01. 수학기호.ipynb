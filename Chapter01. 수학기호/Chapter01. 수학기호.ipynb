{
  "nbformat": 4,
  "nbformat_minor": 0,
  "metadata": {
    "colab": {
      "provenance": []
    },
    "kernelspec": {
      "name": "python3",
      "display_name": "Python 3"
    },
    "language_info": {
      "name": "python"
    }
  },
  "cells": [
    {
      "cell_type": "markdown",
      "source": [
        "### **Chapter01. 수학기호**"
      ],
      "metadata": {
        "id": "HysscxdPankY"
      }
    },
    {
      "cell_type": "markdown",
      "source": [
        "#### **Chapter01.01 그리스 문자**"
      ],
      "metadata": {
        "id": "Elj4RJtgasle"
      }
    },
    {
      "cell_type": "markdown",
      "source": [
        "$Α = \\alpha = alpha = 알파$\n",
        "\n",
        "$Β = \\beta = beta = 베타$\n",
        "\n",
        "$Γ = \\gamma = gamma = 감마$\n",
        "\n",
        "$Δ = \\delta = delta = 델타$\n",
        "\n",
        "$Ε = \\epsilon = epsilon = 앱실론$\n",
        "\n",
        "$Ζ = \\zeta = zeta = 제타$\n",
        "\n",
        "$Η = \\eta = eta = 에타$\n",
        "\n",
        "$Θ = \\theta = theta = 쎄타$\n",
        "\n",
        "$Κ = \\kappa = kappa = 카파$\n",
        "\n",
        "$Λ = \\lambda = lambda = 람다$\n",
        "\n",
        "$Μ = \\mu = mu = 뮤$\n",
        "\n",
        "$Ν = \\nu = nu = 누$\n",
        "\n",
        "$Ξ = \\xi = xi = 크싸이$\n",
        "\n",
        "$Π = \\pi = pi = 파이$\n",
        "\n",
        "$Ρ = \\rho = rho = 로$\n",
        "\n",
        "$Σ = \\sigma = sigma = 시그마$\n",
        "\n",
        "$Τ = \\tau = tau = 타우$\n",
        "\n",
        "$Φ = \\phi = phi = 파이/피$\n",
        "\n",
        "$Χ = \\chi = chi = 카이$\n",
        "\n",
        "$Ψ = \\psi = psi = 프사이$\n",
        "\n",
        "$Ω = \\omega = omega = 오메가$"
      ],
      "metadata": {
        "id": "X2YXqyEFavax"
      }
    },
    {
      "cell_type": "markdown",
      "source": [
        "#### **Chapter01.02 수열과 집합의 합과 곱**"
      ],
      "metadata": {
        "id": "ogYMaKYNayY2"
      }
    },
    {
      "cell_type": "markdown",
      "source": [
        "**수열 (Sequence)**\n",
        "* N개의 숫자 또는 변수가 순서대로 나열된 것\n",
        "* 예) 1, 2, 3, 4\n",
        "* 예) $x_1, x_2, x_3, x_4, x_5$"
      ],
      "metadata": {
        "id": "WKh1N1UlazeH"
      }
    },
    {
      "cell_type": "markdown",
      "source": [
        "**집합 (Set)**\n",
        "* 순서가 중요하지 않은 숫자들은 집합으로 표시\n",
        "* 예) {1, 2, 3, 4}\n",
        "* 예) {$x_1, x_2, x_3, x_4, x_5$}"
      ],
      "metadata": {
        "id": "w1f_MrdBfwfD"
      }
    },
    {
      "cell_type": "markdown",
      "source": [
        "**수열의 합과 곱**"
      ],
      "metadata": {
        "id": "a3Ix_fUIgTfj"
      }
    }
  ]
}