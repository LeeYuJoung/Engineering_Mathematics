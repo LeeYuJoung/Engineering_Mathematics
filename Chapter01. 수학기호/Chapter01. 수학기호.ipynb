{
  "nbformat": 4,
  "nbformat_minor": 0,
  "metadata": {
    "colab": {
      "provenance": []
    },
    "kernelspec": {
      "name": "python3",
      "display_name": "Python 3"
    },
    "language_info": {
      "name": "python"
    }
  },
  "cells": [
    {
      "cell_type": "markdown",
      "source": [
        "### **Chapter01. 수학기호**"
      ],
      "metadata": {
        "id": "HysscxdPankY"
      }
    },
    {
      "cell_type": "markdown",
      "source": [
        "#### **Chapter01.01 그리스 문자**"
      ],
      "metadata": {
        "id": "Elj4RJtgasle"
      }
    },
    {
      "cell_type": "markdown",
      "source": [
        "$Α = \\alpha = alpha = 알파$\n",
        "\n",
        "$Β = \\beta = beta = 베타$\n",
        "\n",
        "$Γ = \\gamma = gamma = 감마$\n",
        "\n",
        "$Δ = \\delta = delta = 델타$\n",
        "\n",
        "$Ε = \\epsilon = epsilon = 앱실론$\n",
        "\n",
        "$Ζ = \\zeta = zeta = 제타$\n",
        "\n",
        "$Η = \\eta = eta = 에타$\n",
        "\n",
        "$Θ = \\theta = theta = 쎄타$\n",
        "\n",
        "$Κ = \\kappa = kappa = 카파$\n",
        "\n",
        "$Λ = \\lambda = lambda = 람다$\n",
        "\n",
        "$Μ = \\mu = mu = 뮤$\n",
        "\n",
        "$Ν = \\nu = nu = 누$\n",
        "\n",
        "$Ξ = \\xi = xi = 크싸이$\n",
        "\n",
        "$Π = \\pi = pi = 파이$\n",
        "\n",
        "$Ρ = \\rho = rho = 로$\n",
        "\n",
        "$Σ = \\sigma = sigma = 시그마$\n",
        "\n",
        "$Τ = \\tau = tau = 타우$\n",
        "\n",
        "$Φ = \\phi = phi = 파이/피$\n",
        "\n",
        "$Χ = \\chi = chi = 카이$\n",
        "\n",
        "$Ψ = \\psi = psi = 프사이$\n",
        "\n",
        "$Ω = \\omega = omega = 오메가$\n",
        "\n",
        "$Ο = Ο = omicron = 오미크론$\n",
        "\n",
        "$Υ = υ = upsilon = 윕실론$"
      ],
      "metadata": {
        "id": "X2YXqyEFavax"
      }
    },
    {
      "cell_type": "markdown",
      "source": [
        "#### **Chapter01.02 수열과 집합의 합과 곱**"
      ],
      "metadata": {
        "id": "ogYMaKYNayY2"
      }
    },
    {
      "cell_type": "markdown",
      "source": [
        "**수열 (Sequence)**\n",
        "* N개의 숫자 또는 변수가 순서대로 나열된 것\n",
        "* 예) 1, 2, 3, 4\n",
        "* 예) $x_1, x_2, x_3, x_4, x_5$\n",
        "* 예) $x_{1:N}$\n",
        "* 문자에 붙은 아래첨자는 순서를 나타내는 숫자로서 ***인덱스(index)***라고 부름"
      ],
      "metadata": {
        "id": "WKh1N1UlazeH"
      }
    },
    {
      "cell_type": "markdown",
      "source": [
        "**집합 (Set)**\n",
        "* 순서가 중요하지 않은 숫자들은 집합으로 표시\n",
        "* 예) {1, 2, 3, 4}\n",
        "* 예) {$x_1, x_2, x_3, x_4, x_5$}\n",
        "\n",
        "\n",
        "* ***R*** : 실수 전체의 집합\n",
        "   * 어떤 숫자 x가 실수라면 ➜ $x \\in R$\n",
        "   * 만약 두 숫자로 이루어진 숫자 쌍 $(x_1, x_2)$이 모두 실수라면 ➜ $(x_1, x_2) \\in R \\,*\\, R \\quad or \\quad (x_1, x_2) \\in R^2$"
      ],
      "metadata": {
        "id": "w1f_MrdBfwfD"
      }
    },
    {
      "cell_type": "markdown",
      "source": [
        "##### **수열의 합과 곱**\n",
        "\n",
        "* 기호 ***아래에는 인덱스의 시작값***, ***위에는 인덱스의 끝값***을 표시\n",
        "* **성질**\n",
        "  * 인덱스 문자가 바뀌어도 실제 수식은 달라지지 않음\n",
        "  * 상수 C를 곱한 후에 합을 한 결과는 먼저 합을 구하고 상수를 곱한 것과 같음 ➜\n",
        "  $\\displaystyle\\sum_{i=1}^{N}cx_i = c\\displaystyle\\sum_{i=1}^{N}x_i$\n",
        "  \n",
        "  * 더해야 하는 값들이 여러 항의 합으로 되어 있으면 각각의 합을 먼저 구한 후에 더해도 됨 ➜\n",
        "  $\\displaystyle\\sum_{i=1}^{N}(x_i +y_i)= \\displaystyle\\sum_{i=1}^{N}x_i + \\displaystyle\\sum_{i=1}^{N}y_i$\n",
        "  * 합이나 곱을 중첩하는 경우에는 중첩의 순서를 바꾸어도 결과 같음"
      ],
      "metadata": {
        "id": "a3Ix_fUIgTfj"
      }
    },
    {
      "cell_type": "markdown",
      "source": [
        "**수열의 합 (Sum)**\n",
        "\n",
        "$\\displaystyle\\sum_{i=1}^{N} x_i=x_1 + x_2 + ...+x_N $\n"
      ],
      "metadata": {
        "id": "5mDsi53WJFf4"
      }
    },
    {
      "cell_type": "markdown",
      "source": [
        "**수열의 곱 (Product)**\n",
        "\n",
        "$\\displaystyle\\prod_{i=1}^{N} x_i=x_1 · x_2 · ... · x_N$"
      ],
      "metadata": {
        "id": "zg-6ZQEqSucx"
      }
    },
    {
      "cell_type": "markdown",
      "source": [
        "* 예) 10부터 90까지 10씩 증가하는 수열 모두 더하기\n",
        "\n",
        "  $\\displaystyle\\prod_{k=1}^{9} 10k=10·1 + 10·2 + ...+10·9 = 10 + 20 + ... + 90$"
      ],
      "metadata": {
        "id": "fJbxda0LRx1c"
      }
    },
    {
      "cell_type": "markdown",
      "source": [
        "##### **집합의 합과 곱**"
      ],
      "metadata": {
        "id": "wcR_xBM9TFwR"
      }
    },
    {
      "cell_type": "markdown",
      "source": [
        "* 수열이 아니라 집합의 원소들의 합과 곱을 구할 때는 인덱스 대신 ***집합 기호***를 사용"
      ],
      "metadata": {
        "id": "89FpGcgAbuZe"
      }
    },
    {
      "cell_type": "markdown",
      "source": [
        "$X$ = {$x_1$, $x_2$, $x_3$}\n",
        "\n",
        "$\\displaystyle\\sum_{x}^{} x = x_1 + x_2 + x_3$\n",
        "\n",
        "\n",
        "$\\displaystyle\\prod_{x}^{} x = x_1 ⋅ x_2 ⋅ x_3$"
      ],
      "metadata": {
        "id": "fwCxKmtAcE71"
      }
    },
    {
      "cell_type": "markdown",
      "source": [
        "* 원소 중 특정한 조건을 가진 원소만 포함시키거나 제외하여 계산 가능\n",
        "  * 예) 집합 x의 원소 중 이 아닌 것 만 곱하는 식 ➜\n",
        "  $\\displaystyle\\prod_{x \\in X, x \\neq 0}^{} x$"
      ],
      "metadata": {
        "id": "XQaOqYPKc8R4"
      }
    }
  ]
}